{
 "cells": [
  {
   "cell_type": "markdown",
   "metadata": {},
   "source": [
    "# Train a Model on Flyte"
   ]
  },
  {
   "cell_type": "markdown",
   "metadata": {},
   "source": [
    "First, install the necessary packages:"
   ]
  },
  {
   "cell_type": "code",
   "execution_count": null,
   "metadata": {},
   "outputs": [],
   "source": [
    "%pip install \"flytekit==1.14.4\" union \"pydantic>2\" pandas pyarrow scikit-learn joblib"
   ]
  },
  {
   "cell_type": "code",
   "execution_count": 1,
   "metadata": {},
   "outputs": [],
   "source": [
    "import os\n",
    "\n",
    "os.environ[\"AWS_ACCESS_KEY_ID\"] = \"minio\"\n",
    "os.environ[\"AWS_SECRET_ACCESS_KEY\"] = \"miniostorage\""
   ]
  },
  {
   "cell_type": "markdown",
   "metadata": {},
   "source": [
    "## Create a Dataset\n",
    "\n",
    "The following code creates a dataset for us to train a model on:"
   ]
  },
  {
   "cell_type": "code",
   "execution_count": 2,
   "metadata": {},
   "outputs": [],
   "source": [
    "import flytekit as fl\n",
    "import pandas as pd\n",
    "import sys\n",
    "\n",
    "\n",
    "image = fl.ImageSpec(\n",
    "    name=\"jupyter-notebook-workshop\",\n",
    "    packages=[\n",
    "        \"pandas\",\n",
    "        \"pyarrow\",\n",
    "        \"flytekit==1.14.4\",\n",
    "    ],\n",
    "    registry=\"localhost:30000\",\n",
    "    python_version=f\"{sys.version_info.major}.{sys.version_info.minor}\",\n",
    ")\n",
    "\n",
    "task = fl.task(container_image=image)\n",
    "\n",
    "\n",
    "@task\n",
    "def get_df() -> pd.DataFrame:\n",
    "    \"\"\"Returns a new Dataframe with cols [Name, Age, Grade and PassedTest]\"\"\"\n",
    "    return pd.DataFrame({\n",
    "        'Name': ['Alice', 'Bob', 'Charlie', 'David', 'Eva'],\n",
    "        'Age': [23, 25, 22, 24, 23],\n",
    "        'Grade': ['A', 'B', 'A', 'C', 'B'],\n",
    "        'PassedTest': [True, False, True, False, True]\n",
    "    })"
   ]
  },
  {
   "cell_type": "markdown",
   "metadata": {},
   "source": [
    "Next we create a remote client that can execute tasks on Union Serverless:"
   ]
  },
  {
   "cell_type": "code",
   "execution_count": 3,
   "metadata": {},
   "outputs": [
    {
     "data": {
      "text/html": [
       "<pre style=\"white-space:pre;overflow-x:auto;line-height:normal;font-family:Menlo,'DejaVu Sans Mono',consolas,'Courier New',monospace\"><span style=\"color: #7fbfbf; text-decoration-color: #7fbfbf\">13:58:50.850587 </span><span style=\"color: #808000; text-decoration-color: #808000\">WARNING </span> remote.py:<span style=\"color: #008080; text-decoration-color: #008080; font-weight: bold\">286</span> - Jupyter notebook and interactive task  \n",
       "<span style=\"color: #7fbfbf; text-decoration-color: #7fbfbf\">                </span>         support is still alpha.                                \n",
       "</pre>\n"
      ],
      "text/plain": [
       "\u001b[2;36m13:58:50.850587\u001b[0m\u001b[2;36m \u001b[0m\u001b[33mWARNING \u001b[0m remote.py:\u001b[1;36m286\u001b[0m - Jupyter notebook and interactive task  \n",
       "\u001b[2;36m                \u001b[0m         support is still alpha.                                \n"
      ]
     },
     "metadata": {},
     "output_type": "display_data"
    }
   ],
   "source": [
    "remote = fl.FlyteRemote.for_sandbox(\n",
    "    default_project=\"flytesnacks\",\n",
    "    default_domain=\"development\",\n",
    "    interactive_mode_enabled=True,\n",
    ")"
   ]
  },
  {
   "cell_type": "markdown",
   "metadata": {},
   "source": [
    "Create the dataframe:"
   ]
  },
  {
   "cell_type": "code",
   "execution_count": 4,
   "metadata": {},
   "outputs": [
    {
     "data": {
      "text/html": [
       "<pre style=\"white-space:pre;overflow-x:auto;line-height:normal;font-family:Menlo,'DejaVu Sans Mono',consolas,'Courier New',monospace\"><span style=\"color: #7fbfbf; text-decoration-color: #7fbfbf\">13:58:52.070832 </span><span style=\"color: #808000; text-decoration-color: #808000\">WARNING </span> remote.py:<span style=\"color: #008080; text-decoration-color: #008080; font-weight: bold\">286</span> - Jupyter notebook and interactive task  \n",
       "<span style=\"color: #7fbfbf; text-decoration-color: #7fbfbf\">                </span>         support is still alpha.                                \n",
       "</pre>\n"
      ],
      "text/plain": [
       "\u001b[2;36m13:58:52.070832\u001b[0m\u001b[2;36m \u001b[0m\u001b[33mWARNING \u001b[0m remote.py:\u001b[1;36m286\u001b[0m - Jupyter notebook and interactive task  \n",
       "\u001b[2;36m                \u001b[0m         support is still alpha.                                \n"
      ]
     },
     "metadata": {},
     "output_type": "display_data"
    },
    {
     "name": "stdout",
     "output_type": "stream",
     "text": [
      "\u001b[34mImage localhost:30000/jupyter-notebook-workshop:tsRbQIdw3EzEA_W_MitThA found. Skip building.\u001b[0m\n"
     ]
    },
    {
     "data": {
      "text/html": [
       "<b>Execution is in-progress. </b> <a href='http://localhost:30080/console/projects/flytesnacks/domains/development/executions/ak8z2tsqvv4j7l6lf5ln'>http://localhost:30080/console/projects/flytesnacks/domains/development/executions/ak8z2tsqvv4j7l6lf5ln</a>"
      ],
      "text/plain": [
       "Flyte Serialized object (FlyteWorkflowExecution):\n",
       "  id:\n",
       "    project: flytesnacks\n",
       "    domain: development\n",
       "    name: ak8z2tsqvv4j7l6lf5ln\n",
       "  spec:\n",
       "    launch_plan:\n",
       "      resource_type: 1\n",
       "      project: flytesnacks\n",
       "      domain: development\n",
       "      name: get_df\n",
       "      version: TrtoUT90_GD1qZE86Ke9Sg\n",
       "    metadata:\n",
       "  closure:\n",
       "    created_at:\n",
       "      seconds: 1737140333\n",
       "      nanos: 769878000\n",
       "    updated_at:\n",
       "      seconds: 1737140333\n",
       "      nanos: 769878000"
      ]
     },
     "execution_count": 4,
     "metadata": {},
     "output_type": "execute_result"
    }
   ],
   "source": [
    "remote = fl.FlyteRemote.for_sandbox(\n",
    "    default_project=\"flytesnacks\",\n",
    "    default_domain=\"development\",\n",
    "    interactive_mode_enabled=True,\n",
    ")\n",
    "\n",
    "exe = remote.execute(get_df, inputs={})\n",
    "exe"
   ]
  },
  {
   "cell_type": "markdown",
   "metadata": {},
   "source": [
    "Wait for the execution to complete, then load the dataframe into memory:"
   ]
  },
  {
   "cell_type": "code",
   "execution_count": 5,
   "metadata": {},
   "outputs": [
    {
     "data": {
      "text/html": [
       "<div>\n",
       "<style scoped>\n",
       "    .dataframe tbody tr th:only-of-type {\n",
       "        vertical-align: middle;\n",
       "    }\n",
       "\n",
       "    .dataframe tbody tr th {\n",
       "        vertical-align: top;\n",
       "    }\n",
       "\n",
       "    .dataframe thead th {\n",
       "        text-align: right;\n",
       "    }\n",
       "</style>\n",
       "<table border=\"1\" class=\"dataframe\">\n",
       "  <thead>\n",
       "    <tr style=\"text-align: right;\">\n",
       "      <th></th>\n",
       "      <th>Name</th>\n",
       "      <th>Age</th>\n",
       "      <th>Grade</th>\n",
       "      <th>PassedTest</th>\n",
       "    </tr>\n",
       "  </thead>\n",
       "  <tbody>\n",
       "    <tr>\n",
       "      <th>0</th>\n",
       "      <td>Alice</td>\n",
       "      <td>23</td>\n",
       "      <td>A</td>\n",
       "      <td>True</td>\n",
       "    </tr>\n",
       "    <tr>\n",
       "      <th>1</th>\n",
       "      <td>Bob</td>\n",
       "      <td>25</td>\n",
       "      <td>B</td>\n",
       "      <td>False</td>\n",
       "    </tr>\n",
       "    <tr>\n",
       "      <th>2</th>\n",
       "      <td>Charlie</td>\n",
       "      <td>22</td>\n",
       "      <td>A</td>\n",
       "      <td>True</td>\n",
       "    </tr>\n",
       "    <tr>\n",
       "      <th>3</th>\n",
       "      <td>David</td>\n",
       "      <td>24</td>\n",
       "      <td>C</td>\n",
       "      <td>False</td>\n",
       "    </tr>\n",
       "    <tr>\n",
       "      <th>4</th>\n",
       "      <td>Eva</td>\n",
       "      <td>23</td>\n",
       "      <td>B</td>\n",
       "      <td>True</td>\n",
       "    </tr>\n",
       "  </tbody>\n",
       "</table>\n",
       "</div>"
      ],
      "text/plain": [
       "      Name  Age Grade  PassedTest\n",
       "0    Alice   23     A        True\n",
       "1      Bob   25     B       False\n",
       "2  Charlie   22     A        True\n",
       "3    David   24     C       False\n",
       "4      Eva   23     B        True"
      ]
     },
     "execution_count": 5,
     "metadata": {},
     "output_type": "execute_result"
    }
   ],
   "source": [
    "exe.wait(poll_interval=1)\n",
    "dataframe = exe.outputs['o0']\n",
    "dataframe"
   ]
  },
  {
   "cell_type": "markdown",
   "metadata": {},
   "source": [
    "You can now play around with the dataframe directly in the jupyter runtime:"
   ]
  },
  {
   "cell_type": "code",
   "execution_count": 6,
   "metadata": {},
   "outputs": [
    {
     "data": {
      "text/plain": [
       "Grade\n",
       "A    45\n",
       "B    48\n",
       "C    24\n",
       "Name: Age, dtype: int64"
      ]
     },
     "execution_count": 6,
     "metadata": {},
     "output_type": "execute_result"
    }
   ],
   "source": [
    "def local_function(dataframe: pd.DataFrame):\n",
    "    return dataframe.groupby(\"Grade\")[\"Age\"].sum()\n",
    "\n",
    "local_function(dataframe)"
   ]
  },
  {
   "cell_type": "markdown",
   "metadata": {},
   "source": [
    "## Train a Model\n",
    "\n",
    "Next we define a task that trains a model:"
   ]
  },
  {
   "cell_type": "code",
   "execution_count": 9,
   "metadata": {},
   "outputs": [],
   "source": [
    "from flytekit.types.file import FlyteFile\n",
    "\n",
    "\n",
    "training_task = fl.task(container_image=image.with_packages([\"scikit-learn\", \"joblib\"]))\n",
    "\n",
    "@training_task\n",
    "def train_model(dataframe: pd.DataFrame) -> FlyteFile:\n",
    "    import joblib\n",
    "    from sklearn.linear_model import LogisticRegression\n",
    "\n",
    "    model = LogisticRegression()\n",
    "    model.fit(dataframe[[\"Age\"]], dataframe[\"PassedTest\"])\n",
    "\n",
    "    with open(\"model.pkl\", \"wb\") as f:\n",
    "        joblib.dump(model, f)\n",
    "\n",
    "    return FlyteFile(path=\"model.pkl\")\n",
    "\n",
    "\n",
    "@fl.workflow\n",
    "def train_wf() -> FlyteFile:\n",
    "    dataframe = get_df()\n",
    "    return train_model(dataframe)"
   ]
  },
  {
   "cell_type": "markdown",
   "metadata": {},
   "source": [
    "Execute the training run:"
   ]
  },
  {
   "cell_type": "code",
   "execution_count": 10,
   "metadata": {},
   "outputs": [
    {
     "data": {
      "text/html": [
       "<pre style=\"white-space:pre;overflow-x:auto;line-height:normal;font-family:Menlo,'DejaVu Sans Mono',consolas,'Courier New',monospace\"><span style=\"color: #800000; text-decoration-color: #800000\">╭─────────────────────────────────────── </span><span style=\"color: #800000; text-decoration-color: #800000; font-weight: bold\">Traceback </span><span style=\"color: #bf7f7f; text-decoration-color: #bf7f7f; font-weight: bold\">(most recent call last)</span><span style=\"color: #800000; text-decoration-color: #800000\"> ───────────────────────────────────────╮</span>\n",
       "<span style=\"color: #800000; text-decoration-color: #800000\">│</span> <span style=\"color: #bfbf7f; text-decoration-color: #bfbf7f\">/Users/nielsbantilan/miniforge3/envs/jupyter-notebook-workshop/lib/python3.11/site-packages/grpc/</span><span style=\"color: #808000; text-decoration-color: #808000; font-weight: bold\">_interceptor.p</span> <span style=\"color: #800000; text-decoration-color: #800000\">│</span>\n",
       "<span style=\"color: #800000; text-decoration-color: #800000\">│</span> <span style=\"color: #808000; text-decoration-color: #808000; font-weight: bold\">y</span>:<span style=\"color: #0000ff; text-decoration-color: #0000ff\">315</span> in <span style=\"color: #00ff00; text-decoration-color: #00ff00\">continuation</span>                                                                                           <span style=\"color: #800000; text-decoration-color: #800000\">│</span>\n",
       "<span style=\"color: #800000; text-decoration-color: #800000\">│</span>                                                                                                                 <span style=\"color: #800000; text-decoration-color: #800000\">│</span>\n",
       "<span style=\"color: #800000; text-decoration-color: #800000\">│</span> <span style=\"color: #800000; text-decoration-color: #800000\">❱ </span>315 <span style=\"color: #7f7f7f; text-decoration-color: #7f7f7f\">│   │   │   │   </span>response, call = <span style=\"color: #00ffff; text-decoration-color: #00ffff\">self</span>._thunk(new_method).with_call(                                       <span style=\"color: #800000; text-decoration-color: #800000\">│</span>\n",
       "<span style=\"color: #800000; text-decoration-color: #800000\">│</span>                                                                                                                 <span style=\"color: #800000; text-decoration-color: #800000\">│</span>\n",
       "<span style=\"color: #800000; text-decoration-color: #800000\">│</span> <span style=\"color: #bfbf7f; text-decoration-color: #bfbf7f\">/Users/nielsbantilan/miniforge3/envs/jupyter-notebook-workshop/lib/python3.11/site-packages/grpc/</span><span style=\"color: #808000; text-decoration-color: #808000; font-weight: bold\">_interceptor.p</span> <span style=\"color: #800000; text-decoration-color: #800000\">│</span>\n",
       "<span style=\"color: #800000; text-decoration-color: #800000\">│</span> <span style=\"color: #808000; text-decoration-color: #808000; font-weight: bold\">y</span>:<span style=\"color: #0000ff; text-decoration-color: #0000ff\">343</span> in <span style=\"color: #00ff00; text-decoration-color: #00ff00\">with_call</span>                                                                                              <span style=\"color: #800000; text-decoration-color: #800000\">│</span>\n",
       "<span style=\"color: #800000; text-decoration-color: #800000\">│</span>                                                                                                                 <span style=\"color: #800000; text-decoration-color: #800000\">│</span>\n",
       "<span style=\"color: #800000; text-decoration-color: #800000\">│</span> <span style=\"color: #800000; text-decoration-color: #800000\">❱ </span>343 <span style=\"color: #7f7f7f; text-decoration-color: #7f7f7f\">│   │   </span><span style=\"color: #0000ff; text-decoration-color: #0000ff\">return</span> <span style=\"color: #00ffff; text-decoration-color: #00ffff\">self</span>._with_call(                                                                           <span style=\"color: #800000; text-decoration-color: #800000\">│</span>\n",
       "<span style=\"color: #800000; text-decoration-color: #800000\">│</span>                                                                                                                 <span style=\"color: #800000; text-decoration-color: #800000\">│</span>\n",
       "<span style=\"color: #800000; text-decoration-color: #800000\">│</span> <span style=\"color: #bfbf7f; text-decoration-color: #bfbf7f\">/Users/nielsbantilan/miniforge3/envs/jupyter-notebook-workshop/lib/python3.11/site-packages/grpc/</span><span style=\"color: #808000; text-decoration-color: #808000; font-weight: bold\">_interceptor.p</span> <span style=\"color: #800000; text-decoration-color: #800000\">│</span>\n",
       "<span style=\"color: #800000; text-decoration-color: #800000\">│</span> <span style=\"color: #808000; text-decoration-color: #808000; font-weight: bold\">y</span>:<span style=\"color: #0000ff; text-decoration-color: #0000ff\">332</span> in <span style=\"color: #00ff00; text-decoration-color: #00ff00\">_with_call</span>                                                                                             <span style=\"color: #800000; text-decoration-color: #800000\">│</span>\n",
       "<span style=\"color: #800000; text-decoration-color: #800000\">│</span>                                                                                                                 <span style=\"color: #800000; text-decoration-color: #800000\">│</span>\n",
       "<span style=\"color: #800000; text-decoration-color: #800000\">│</span> <span style=\"color: #800000; text-decoration-color: #800000\">❱ </span>332 <span style=\"color: #7f7f7f; text-decoration-color: #7f7f7f\">│   │   </span><span style=\"color: #0000ff; text-decoration-color: #0000ff\">return</span> <span style=\"font-weight: bold; text-decoration: underline\">call.result()</span>, call                                                                        <span style=\"color: #800000; text-decoration-color: #800000\">│</span>\n",
       "<span style=\"color: #800000; text-decoration-color: #800000\">│</span>                                                                                                                 <span style=\"color: #800000; text-decoration-color: #800000\">│</span>\n",
       "<span style=\"color: #800000; text-decoration-color: #800000\">│</span> <span style=\"color: #bfbf7f; text-decoration-color: #bfbf7f\">/Users/nielsbantilan/miniforge3/envs/jupyter-notebook-workshop/lib/python3.11/site-packages/grpc/</span><span style=\"color: #808000; text-decoration-color: #808000; font-weight: bold\">_channel.py</span>:<span style=\"color: #0000ff; text-decoration-color: #0000ff\">44</span> <span style=\"color: #800000; text-decoration-color: #800000\">│</span>\n",
       "<span style=\"color: #800000; text-decoration-color: #800000\">│</span> <span style=\"color: #0000ff; text-decoration-color: #0000ff\">0</span> in <span style=\"color: #00ff00; text-decoration-color: #00ff00\">result</span>                                                                                                     <span style=\"color: #800000; text-decoration-color: #800000\">│</span>\n",
       "<span style=\"color: #800000; text-decoration-color: #800000\">│</span>                                                                                                                 <span style=\"color: #800000; text-decoration-color: #800000\">│</span>\n",
       "<span style=\"color: #800000; text-decoration-color: #800000\">│</span> <span style=\"color: #800000; text-decoration-color: #800000\">❱ </span> 440 <span style=\"color: #7f7f7f; text-decoration-color: #7f7f7f\">│   │   </span><span style=\"color: #0000ff; text-decoration-color: #0000ff; font-weight: bold; text-decoration: underline\">raise</span><span style=\"font-weight: bold; text-decoration: underline\"> </span><span style=\"color: #00ffff; text-decoration-color: #00ffff; font-weight: bold; text-decoration: underline\">self</span>                                                                                       <span style=\"color: #800000; text-decoration-color: #800000\">│</span>\n",
       "<span style=\"color: #800000; text-decoration-color: #800000\">│</span>                                                                                                                 <span style=\"color: #800000; text-decoration-color: #800000\">│</span>\n",
       "<span style=\"color: #800000; text-decoration-color: #800000\">│</span> <span style=\"color: #bfbf7f; text-decoration-color: #bfbf7f\">/Users/nielsbantilan/miniforge3/envs/jupyter-notebook-workshop/lib/python3.11/site-packages/grpc/</span><span style=\"color: #808000; text-decoration-color: #808000; font-weight: bold\">_interceptor.p</span> <span style=\"color: #800000; text-decoration-color: #800000\">│</span>\n",
       "<span style=\"color: #800000; text-decoration-color: #800000\">│</span> <span style=\"color: #808000; text-decoration-color: #808000; font-weight: bold\">y</span>:<span style=\"color: #0000ff; text-decoration-color: #0000ff\">315</span> in <span style=\"color: #00ff00; text-decoration-color: #00ff00\">continuation</span>                                                                                           <span style=\"color: #800000; text-decoration-color: #800000\">│</span>\n",
       "<span style=\"color: #800000; text-decoration-color: #800000\">│</span>                                                                                                                 <span style=\"color: #800000; text-decoration-color: #800000\">│</span>\n",
       "<span style=\"color: #800000; text-decoration-color: #800000\">│</span> <span style=\"color: #800000; text-decoration-color: #800000\">❱ </span>315 <span style=\"color: #7f7f7f; text-decoration-color: #7f7f7f\">│   │   │   │   </span>response, call = <span style=\"color: #00ffff; text-decoration-color: #00ffff\">self</span>._thunk(new_method).with_call(                                       <span style=\"color: #800000; text-decoration-color: #800000\">│</span>\n",
       "<span style=\"color: #800000; text-decoration-color: #800000\">│</span>                                                                                                                 <span style=\"color: #800000; text-decoration-color: #800000\">│</span>\n",
       "<span style=\"color: #800000; text-decoration-color: #800000\">│</span> <span style=\"color: #bfbf7f; text-decoration-color: #bfbf7f\">/Users/nielsbantilan/miniforge3/envs/jupyter-notebook-workshop/lib/python3.11/site-packages/grpc/</span><span style=\"color: #808000; text-decoration-color: #808000; font-weight: bold\">_interceptor.p</span> <span style=\"color: #800000; text-decoration-color: #800000\">│</span>\n",
       "<span style=\"color: #800000; text-decoration-color: #800000\">│</span> <span style=\"color: #808000; text-decoration-color: #808000; font-weight: bold\">y</span>:<span style=\"color: #0000ff; text-decoration-color: #0000ff\">343</span> in <span style=\"color: #00ff00; text-decoration-color: #00ff00\">with_call</span>                                                                                              <span style=\"color: #800000; text-decoration-color: #800000\">│</span>\n",
       "<span style=\"color: #800000; text-decoration-color: #800000\">│</span>                                                                                                                 <span style=\"color: #800000; text-decoration-color: #800000\">│</span>\n",
       "<span style=\"color: #800000; text-decoration-color: #800000\">│</span> <span style=\"color: #800000; text-decoration-color: #800000\">❱ </span>343 <span style=\"color: #7f7f7f; text-decoration-color: #7f7f7f\">│   │   </span><span style=\"color: #0000ff; text-decoration-color: #0000ff\">return</span> <span style=\"color: #00ffff; text-decoration-color: #00ffff\">self</span>._with_call(                                                                           <span style=\"color: #800000; text-decoration-color: #800000\">│</span>\n",
       "<span style=\"color: #800000; text-decoration-color: #800000\">│</span>                                                                                                                 <span style=\"color: #800000; text-decoration-color: #800000\">│</span>\n",
       "<span style=\"color: #800000; text-decoration-color: #800000\">│</span> <span style=\"color: #bfbf7f; text-decoration-color: #bfbf7f\">/Users/nielsbantilan/miniforge3/envs/jupyter-notebook-workshop/lib/python3.11/site-packages/grpc/</span><span style=\"color: #808000; text-decoration-color: #808000; font-weight: bold\">_interceptor.p</span> <span style=\"color: #800000; text-decoration-color: #800000\">│</span>\n",
       "<span style=\"color: #800000; text-decoration-color: #800000\">│</span> <span style=\"color: #808000; text-decoration-color: #808000; font-weight: bold\">y</span>:<span style=\"color: #0000ff; text-decoration-color: #0000ff\">332</span> in <span style=\"color: #00ff00; text-decoration-color: #00ff00\">_with_call</span>                                                                                             <span style=\"color: #800000; text-decoration-color: #800000\">│</span>\n",
       "<span style=\"color: #800000; text-decoration-color: #800000\">│</span>                                                                                                                 <span style=\"color: #800000; text-decoration-color: #800000\">│</span>\n",
       "<span style=\"color: #800000; text-decoration-color: #800000\">│</span> <span style=\"color: #800000; text-decoration-color: #800000\">❱ </span>332 <span style=\"color: #7f7f7f; text-decoration-color: #7f7f7f\">│   │   </span><span style=\"color: #0000ff; text-decoration-color: #0000ff\">return</span> <span style=\"font-weight: bold; text-decoration: underline\">call.result()</span>, call                                                                        <span style=\"color: #800000; text-decoration-color: #800000\">│</span>\n",
       "<span style=\"color: #800000; text-decoration-color: #800000\">│</span>                                                                                                                 <span style=\"color: #800000; text-decoration-color: #800000\">│</span>\n",
       "<span style=\"color: #800000; text-decoration-color: #800000\">│</span> <span style=\"color: #bfbf7f; text-decoration-color: #bfbf7f\">/Users/nielsbantilan/miniforge3/envs/jupyter-notebook-workshop/lib/python3.11/site-packages/grpc/</span><span style=\"color: #808000; text-decoration-color: #808000; font-weight: bold\">_channel.py</span>:<span style=\"color: #0000ff; text-decoration-color: #0000ff\">44</span> <span style=\"color: #800000; text-decoration-color: #800000\">│</span>\n",
       "<span style=\"color: #800000; text-decoration-color: #800000\">│</span> <span style=\"color: #0000ff; text-decoration-color: #0000ff\">0</span> in <span style=\"color: #00ff00; text-decoration-color: #00ff00\">result</span>                                                                                                     <span style=\"color: #800000; text-decoration-color: #800000\">│</span>\n",
       "<span style=\"color: #800000; text-decoration-color: #800000\">│</span>                                                                                                                 <span style=\"color: #800000; text-decoration-color: #800000\">│</span>\n",
       "<span style=\"color: #800000; text-decoration-color: #800000\">│</span> <span style=\"color: #800000; text-decoration-color: #800000\">❱ </span> 440 <span style=\"color: #7f7f7f; text-decoration-color: #7f7f7f\">│   │   </span><span style=\"color: #0000ff; text-decoration-color: #0000ff; font-weight: bold; text-decoration: underline\">raise</span><span style=\"font-weight: bold; text-decoration: underline\"> </span><span style=\"color: #00ffff; text-decoration-color: #00ffff; font-weight: bold; text-decoration: underline\">self</span>                                                                                       <span style=\"color: #800000; text-decoration-color: #800000\">│</span>\n",
       "<span style=\"color: #800000; text-decoration-color: #800000\">│</span>                                                                                                                 <span style=\"color: #800000; text-decoration-color: #800000\">│</span>\n",
       "<span style=\"color: #800000; text-decoration-color: #800000\">│</span> <span style=\"color: #bfbf7f; text-decoration-color: #bfbf7f\">/Users/nielsbantilan/miniforge3/envs/jupyter-notebook-workshop/lib/python3.11/site-packages/grpc/</span><span style=\"color: #808000; text-decoration-color: #808000; font-weight: bold\">_interceptor.p</span> <span style=\"color: #800000; text-decoration-color: #800000\">│</span>\n",
       "<span style=\"color: #800000; text-decoration-color: #800000\">│</span> <span style=\"color: #808000; text-decoration-color: #808000; font-weight: bold\">y</span>:<span style=\"color: #0000ff; text-decoration-color: #0000ff\">315</span> in <span style=\"color: #00ff00; text-decoration-color: #00ff00\">continuation</span>                                                                                           <span style=\"color: #800000; text-decoration-color: #800000\">│</span>\n",
       "<span style=\"color: #800000; text-decoration-color: #800000\">│</span>                                                                                                                 <span style=\"color: #800000; text-decoration-color: #800000\">│</span>\n",
       "<span style=\"color: #800000; text-decoration-color: #800000\">│</span> <span style=\"color: #800000; text-decoration-color: #800000\">❱ </span>315 <span style=\"color: #7f7f7f; text-decoration-color: #7f7f7f\">│   │   │   │   </span>response, call = <span style=\"color: #00ffff; text-decoration-color: #00ffff\">self</span>._thunk(new_method).with_call(                                       <span style=\"color: #800000; text-decoration-color: #800000\">│</span>\n",
       "<span style=\"color: #800000; text-decoration-color: #800000\">│</span>                                                                                                                 <span style=\"color: #800000; text-decoration-color: #800000\">│</span>\n",
       "<span style=\"color: #800000; text-decoration-color: #800000\">│</span> <span style=\"color: #bfbf7f; text-decoration-color: #bfbf7f\">/Users/nielsbantilan/miniforge3/envs/jupyter-notebook-workshop/lib/python3.11/site-packages/grpc/</span><span style=\"color: #808000; text-decoration-color: #808000; font-weight: bold\">_channel.py</span>:<span style=\"color: #0000ff; text-decoration-color: #0000ff\">11</span> <span style=\"color: #800000; text-decoration-color: #800000\">│</span>\n",
       "<span style=\"color: #800000; text-decoration-color: #800000\">│</span> <span style=\"color: #0000ff; text-decoration-color: #0000ff\">98</span> in <span style=\"color: #00ff00; text-decoration-color: #00ff00\">with_call</span>                                                                                                 <span style=\"color: #800000; text-decoration-color: #800000\">│</span>\n",
       "<span style=\"color: #800000; text-decoration-color: #800000\">│</span>                                                                                                                 <span style=\"color: #800000; text-decoration-color: #800000\">│</span>\n",
       "<span style=\"color: #800000; text-decoration-color: #800000\">│</span> <span style=\"color: #800000; text-decoration-color: #800000\">❱ </span>1198 <span style=\"color: #7f7f7f; text-decoration-color: #7f7f7f\">│   │   </span><span style=\"color: #0000ff; text-decoration-color: #0000ff\">return</span> <span style=\"font-weight: bold; text-decoration: underline\">_end_unary_response_blocking(state, call, </span><span style=\"color: #0000ff; text-decoration-color: #0000ff; font-weight: bold; text-decoration: underline\">True</span><span style=\"font-weight: bold; text-decoration: underline\">, </span><span style=\"color: #0000ff; text-decoration-color: #0000ff; font-weight: bold; text-decoration: underline\">None</span><span style=\"font-weight: bold; text-decoration: underline\">)</span>                                     <span style=\"color: #800000; text-decoration-color: #800000\">│</span>\n",
       "<span style=\"color: #800000; text-decoration-color: #800000\">│</span>                                                                                                                 <span style=\"color: #800000; text-decoration-color: #800000\">│</span>\n",
       "<span style=\"color: #800000; text-decoration-color: #800000\">│</span> <span style=\"color: #bfbf7f; text-decoration-color: #bfbf7f\">/Users/nielsbantilan/miniforge3/envs/jupyter-notebook-workshop/lib/python3.11/site-packages/grpc/</span><span style=\"color: #808000; text-decoration-color: #808000; font-weight: bold\">_channel.py</span>:<span style=\"color: #0000ff; text-decoration-color: #0000ff\">10</span> <span style=\"color: #800000; text-decoration-color: #800000\">│</span>\n",
       "<span style=\"color: #800000; text-decoration-color: #800000\">│</span> <span style=\"color: #0000ff; text-decoration-color: #0000ff\">06</span> in <span style=\"color: #00ff00; text-decoration-color: #00ff00\">_end_unary_response_blocking</span>                                                                              <span style=\"color: #800000; text-decoration-color: #800000\">│</span>\n",
       "<span style=\"color: #800000; text-decoration-color: #800000\">│</span>                                                                                                                 <span style=\"color: #800000; text-decoration-color: #800000\">│</span>\n",
       "<span style=\"color: #800000; text-decoration-color: #800000\">│</span> <span style=\"color: #800000; text-decoration-color: #800000\">❱ </span>1006 <span style=\"color: #7f7f7f; text-decoration-color: #7f7f7f\">│   │   </span><span style=\"color: #0000ff; text-decoration-color: #0000ff; font-weight: bold; text-decoration: underline\">raise</span><span style=\"font-weight: bold; text-decoration: underline\"> _InactiveRpcError(state)</span>  <span style=\"color: #7f7f7f; text-decoration-color: #7f7f7f\"># pytype: disable=not-instantiable</span>                               <span style=\"color: #800000; text-decoration-color: #800000\">│</span>\n",
       "<span style=\"color: #800000; text-decoration-color: #800000\">╰─────────────────────────────────────────────────────────────────────────────────────────────────────────────────╯</span>\n",
       "<span style=\"color: #ff0000; text-decoration-color: #ff0000; font-weight: bold\">_InactiveRpcError: </span><span style=\"font-weight: bold\">&lt;</span><span style=\"color: #ff00ff; text-decoration-color: #ff00ff; font-weight: bold\">_InactiveRpcError</span><span style=\"color: #000000; text-decoration-color: #000000\"> of RPC that terminated with:</span>\n",
       "<span style=\"color: #000000; text-decoration-color: #000000\">        status = StatusCode.INVALID_ARGUMENT</span>\n",
       "<span style=\"color: #000000; text-decoration-color: #000000\">        details = </span><span style=\"color: #008000; text-decoration-color: #008000\">\"invalid launch plan default inputs, expected none but found 1\"</span>\n",
       "<span style=\"color: #000000; text-decoration-color: #000000\">        debug_error_string = </span><span style=\"color: #008000; text-decoration-color: #008000\">\"UNKNOWN:Error received from peer  {created_time:\"</span><span style=\"color: #008080; text-decoration-color: #008080; font-weight: bold\">2025</span><span style=\"color: #000000; text-decoration-color: #000000\">-</span><span style=\"color: #008080; text-decoration-color: #008080; font-weight: bold\">01</span><span style=\"color: #000000; text-decoration-color: #000000\">-17T</span><span style=\"color: #00ff00; text-decoration-color: #00ff00; font-weight: bold\">13:59:24</span><span style=\"color: #000000; text-decoration-color: #000000\">.</span><span style=\"color: #008080; text-decoration-color: #008080; font-weight: bold\">257185</span><span style=\"color: #000000; text-decoration-color: #000000\">-</span><span style=\"color: #00ff00; text-decoration-color: #00ff00; font-weight: bold\">05:00</span><span style=\"color: #000000; text-decoration-color: #000000\">\", </span>\n",
       "<span style=\"color: #000000; text-decoration-color: #000000\">grpc_status:</span><span style=\"color: #008080; text-decoration-color: #008080; font-weight: bold\">3</span><span style=\"color: #000000; text-decoration-color: #000000\">, grpc_message:</span><span style=\"color: #008000; text-decoration-color: #008000\">\"invalid launch plan default inputs, expected none but found 1\"</span><span style=\"color: #000000; text-decoration-color: #000000; font-weight: bold\">}</span><span style=\"color: #000000; text-decoration-color: #000000\">\"</span>\n",
       "<span style=\"font-weight: bold\">&gt;</span>\n",
       "\n",
       "<span style=\"font-style: italic\">The above exception was the direct cause of the following exception:</span>\n",
       "\n",
       "<span style=\"color: #800000; text-decoration-color: #800000\">╭─────────────────────────────────────── </span><span style=\"color: #800000; text-decoration-color: #800000; font-weight: bold\">Traceback </span><span style=\"color: #bf7f7f; text-decoration-color: #bf7f7f; font-weight: bold\">(most recent call last)</span><span style=\"color: #800000; text-decoration-color: #800000\"> ───────────────────────────────────────╮</span>\n",
       "<span style=\"color: #800000; text-decoration-color: #800000\">│</span> in <span style=\"color: #00ff00; text-decoration-color: #00ff00\">&lt;module&gt;</span>:<span style=\"color: #0000ff; text-decoration-color: #0000ff\">1</span>                                                                                                   <span style=\"color: #800000; text-decoration-color: #800000\">│</span>\n",
       "<span style=\"color: #800000; text-decoration-color: #800000\">│</span>                                                                                                                 <span style=\"color: #800000; text-decoration-color: #800000\">│</span>\n",
       "<span style=\"color: #800000; text-decoration-color: #800000\">│</span> <span style=\"color: #800000; text-decoration-color: #800000\">❱ </span>1 model_exe = <span style=\"font-weight: bold; text-decoration: underline\">remote.execute(train_wf, inputs={</span><span style=\"color: #808000; text-decoration-color: #808000; font-weight: bold; text-decoration: underline\">\"dataframe\"</span><span style=\"font-weight: bold; text-decoration: underline\">: dataframe})</span>                                       <span style=\"color: #800000; text-decoration-color: #800000\">│</span>\n",
       "<span style=\"color: #800000; text-decoration-color: #800000\">│</span>                                                                                                                 <span style=\"color: #800000; text-decoration-color: #800000\">│</span>\n",
       "<span style=\"color: #800000; text-decoration-color: #800000\">│</span> <span style=\"color: #bfbf7f; text-decoration-color: #bfbf7f\">/Users/nielsbantilan/miniforge3/envs/jupyter-notebook-workshop/lib/python3.11/site-packages/flytekit/remote/</span><span style=\"color: #808000; text-decoration-color: #808000; font-weight: bold\">rem</span> <span style=\"color: #800000; text-decoration-color: #800000\">│</span>\n",
       "<span style=\"color: #800000; text-decoration-color: #800000\">│</span> <span style=\"color: #808000; text-decoration-color: #808000; font-weight: bold\">ote.py</span>:<span style=\"color: #0000ff; text-decoration-color: #0000ff\">1666</span> in <span style=\"color: #00ff00; text-decoration-color: #00ff00\">execute</span>                                                                                          <span style=\"color: #800000; text-decoration-color: #800000\">│</span>\n",
       "<span style=\"color: #800000; text-decoration-color: #800000\">│</span>                                                                                                                 <span style=\"color: #800000; text-decoration-color: #800000\">│</span>\n",
       "<span style=\"color: #800000; text-decoration-color: #800000\">│</span> <span style=\"color: #800000; text-decoration-color: #800000\">❱ </span>1666 <span style=\"color: #7f7f7f; text-decoration-color: #7f7f7f\">│   │   │   </span><span style=\"color: #0000ff; text-decoration-color: #0000ff\">return</span> <span style=\"color: #00ffff; text-decoration-color: #00ffff\">self</span>.execute_local_workflow(                                                          <span style=\"color: #800000; text-decoration-color: #800000\">│</span>\n",
       "<span style=\"color: #800000; text-decoration-color: #800000\">│</span>                                                                                                                 <span style=\"color: #800000; text-decoration-color: #800000\">│</span>\n",
       "<span style=\"color: #800000; text-decoration-color: #800000\">│</span> <span style=\"color: #bfbf7f; text-decoration-color: #bfbf7f\">/Users/nielsbantilan/miniforge3/envs/jupyter-notebook-workshop/lib/python3.11/site-packages/flytekit/remote/</span><span style=\"color: #808000; text-decoration-color: #808000; font-weight: bold\">rem</span> <span style=\"color: #800000; text-decoration-color: #800000\">│</span>\n",
       "<span style=\"color: #800000; text-decoration-color: #800000\">│</span> <span style=\"color: #808000; text-decoration-color: #808000; font-weight: bold\">ote.py</span>:<span style=\"color: #0000ff; text-decoration-color: #0000ff\">2085</span> in <span style=\"color: #00ff00; text-decoration-color: #00ff00\">execute_local_workflow</span>                                                                           <span style=\"color: #800000; text-decoration-color: #800000\">│</span>\n",
       "<span style=\"color: #800000; text-decoration-color: #800000\">│</span>                                                                                                                 <span style=\"color: #800000; text-decoration-color: #800000\">│</span>\n",
       "<span style=\"color: #800000; text-decoration-color: #800000\">│</span> <span style=\"color: #800000; text-decoration-color: #800000\">❱ </span>2085 <span style=\"color: #7f7f7f; text-decoration-color: #7f7f7f\">│   │   │   </span><span style=\"color: #00ffff; text-decoration-color: #00ffff; font-weight: bold; text-decoration: underline\">self</span><span style=\"font-weight: bold; text-decoration: underline\">.register_workflow(entity, ss, version=version, options=options)</span>                         <span style=\"color: #800000; text-decoration-color: #800000\">│</span>\n",
       "<span style=\"color: #800000; text-decoration-color: #800000\">│</span>                                                                                                                 <span style=\"color: #800000; text-decoration-color: #800000\">│</span>\n",
       "<span style=\"color: #800000; text-decoration-color: #800000\">│</span> <span style=\"color: #bfbf7f; text-decoration-color: #bfbf7f\">/Users/nielsbantilan/miniforge3/envs/jupyter-notebook-workshop/lib/python3.11/site-packages/flytekit/remote/</span><span style=\"color: #808000; text-decoration-color: #808000; font-weight: bold\">rem</span> <span style=\"color: #800000; text-decoration-color: #800000\">│</span>\n",
       "<span style=\"color: #800000; text-decoration-color: #800000\">│</span> <span style=\"color: #808000; text-decoration-color: #808000; font-weight: bold\">ote.py</span>:<span style=\"color: #0000ff; text-decoration-color: #0000ff\">973</span> in <span style=\"color: #00ff00; text-decoration-color: #00ff00\">register_workflow</span>                                                                                 <span style=\"color: #800000; text-decoration-color: #800000\">│</span>\n",
       "<span style=\"color: #800000; text-decoration-color: #800000\">│</span>                                                                                                                 <span style=\"color: #800000; text-decoration-color: #800000\">│</span>\n",
       "<span style=\"color: #800000; text-decoration-color: #800000\">│</span> <span style=\"color: #800000; text-decoration-color: #800000\">❱ </span> 973 <span style=\"color: #7f7f7f; text-decoration-color: #7f7f7f\">│   │   </span>ident = run_sync(                                                                                <span style=\"color: #800000; text-decoration-color: #800000\">│</span>\n",
       "<span style=\"color: #800000; text-decoration-color: #800000\">│</span>                                                                                                                 <span style=\"color: #800000; text-decoration-color: #800000\">│</span>\n",
       "<span style=\"color: #800000; text-decoration-color: #800000\">│</span> <span style=\"color: #bfbf7f; text-decoration-color: #bfbf7f\">/Users/nielsbantilan/miniforge3/envs/jupyter-notebook-workshop/lib/python3.11/site-packages/flytekit/utils/</span><span style=\"color: #808000; text-decoration-color: #808000; font-weight: bold\">asyn</span> <span style=\"color: #800000; text-decoration-color: #800000\">│</span>\n",
       "<span style=\"color: #800000; text-decoration-color: #800000\">│</span> <span style=\"color: #808000; text-decoration-color: #808000; font-weight: bold\">.py</span>:<span style=\"color: #0000ff; text-decoration-color: #0000ff\">93</span> in <span style=\"color: #00ff00; text-decoration-color: #00ff00\">run_sync</span>                                                                                              <span style=\"color: #800000; text-decoration-color: #800000\">│</span>\n",
       "<span style=\"color: #800000; text-decoration-color: #800000\">│</span>                                                                                                                 <span style=\"color: #800000; text-decoration-color: #800000\">│</span>\n",
       "<span style=\"color: #800000; text-decoration-color: #800000\">│</span> <span style=\"color: #800000; text-decoration-color: #800000\">❱ </span> 93 <span style=\"color: #7f7f7f; text-decoration-color: #7f7f7f\">│   │   </span><span style=\"color: #0000ff; text-decoration-color: #0000ff\">return</span> <span style=\"color: #00ffff; text-decoration-color: #00ffff; font-weight: bold; text-decoration: underline\">self</span><span style=\"font-weight: bold; text-decoration: underline\">._runner_map[name].run(coro)</span>                                                           <span style=\"color: #800000; text-decoration-color: #800000\">│</span>\n",
       "<span style=\"color: #800000; text-decoration-color: #800000\">│</span>                                                                                                                 <span style=\"color: #800000; text-decoration-color: #800000\">│</span>\n",
       "<span style=\"color: #800000; text-decoration-color: #800000\">│</span> <span style=\"color: #bfbf7f; text-decoration-color: #bfbf7f\">/Users/nielsbantilan/miniforge3/envs/jupyter-notebook-workshop/lib/python3.11/site-packages/flytekit/utils/</span><span style=\"color: #808000; text-decoration-color: #808000; font-weight: bold\">asyn</span> <span style=\"color: #800000; text-decoration-color: #800000\">│</span>\n",
       "<span style=\"color: #800000; text-decoration-color: #800000\">│</span> <span style=\"color: #808000; text-decoration-color: #808000; font-weight: bold\">.py</span>:<span style=\"color: #0000ff; text-decoration-color: #0000ff\">72</span> in <span style=\"color: #00ff00; text-decoration-color: #00ff00\">run</span>                                                                                                   <span style=\"color: #800000; text-decoration-color: #800000\">│</span>\n",
       "<span style=\"color: #800000; text-decoration-color: #800000\">│</span>                                                                                                                 <span style=\"color: #800000; text-decoration-color: #800000\">│</span>\n",
       "<span style=\"color: #800000; text-decoration-color: #800000\">│</span> <span style=\"color: #800000; text-decoration-color: #800000\">❱ </span> 72 <span style=\"color: #7f7f7f; text-decoration-color: #7f7f7f\">│   │   </span>res = <span style=\"font-weight: bold; text-decoration: underline\">fut.result(</span><span style=\"color: #0000ff; text-decoration-color: #0000ff; font-weight: bold; text-decoration: underline\">None</span><span style=\"font-weight: bold; text-decoration: underline\">)</span>                                                                            <span style=\"color: #800000; text-decoration-color: #800000\">│</span>\n",
       "<span style=\"color: #800000; text-decoration-color: #800000\">│</span>                                                                                                                 <span style=\"color: #800000; text-decoration-color: #800000\">│</span>\n",
       "<span style=\"color: #800000; text-decoration-color: #800000\">│</span> <span style=\"color: #bfbf7f; text-decoration-color: #bfbf7f\">/Users/nielsbantilan/miniforge3/envs/jupyter-notebook-workshop/lib/python3.11/concurrent/futures/</span><span style=\"color: #808000; text-decoration-color: #808000; font-weight: bold\">_base.py</span>:<span style=\"color: #0000ff; text-decoration-color: #0000ff\">456</span>   <span style=\"color: #800000; text-decoration-color: #800000\">│</span>\n",
       "<span style=\"color: #800000; text-decoration-color: #800000\">│</span> in <span style=\"color: #00ff00; text-decoration-color: #00ff00\">result</span>                                                                                                       <span style=\"color: #800000; text-decoration-color: #800000\">│</span>\n",
       "<span style=\"color: #800000; text-decoration-color: #800000\">│</span>                                                                                                                 <span style=\"color: #800000; text-decoration-color: #800000\">│</span>\n",
       "<span style=\"color: #800000; text-decoration-color: #800000\">│</span> <span style=\"color: #800000; text-decoration-color: #800000\">❱ </span>456 <span style=\"color: #7f7f7f; text-decoration-color: #7f7f7f\">│   │   │   │   │   </span><span style=\"color: #0000ff; text-decoration-color: #0000ff\">return</span> <span style=\"color: #00ffff; text-decoration-color: #00ffff\">self</span>.__get_result()                                                            <span style=\"color: #800000; text-decoration-color: #800000\">│</span>\n",
       "<span style=\"color: #800000; text-decoration-color: #800000\">│</span>                                                                                                                 <span style=\"color: #800000; text-decoration-color: #800000\">│</span>\n",
       "<span style=\"color: #800000; text-decoration-color: #800000\">│</span> <span style=\"color: #bfbf7f; text-decoration-color: #bfbf7f\">/Users/nielsbantilan/miniforge3/envs/jupyter-notebook-workshop/lib/python3.11/concurrent/futures/</span><span style=\"color: #808000; text-decoration-color: #808000; font-weight: bold\">_base.py</span>:<span style=\"color: #0000ff; text-decoration-color: #0000ff\">401</span>   <span style=\"color: #800000; text-decoration-color: #800000\">│</span>\n",
       "<span style=\"color: #800000; text-decoration-color: #800000\">│</span> in <span style=\"color: #00ff00; text-decoration-color: #00ff00\">__get_result</span>                                                                                                 <span style=\"color: #800000; text-decoration-color: #800000\">│</span>\n",
       "<span style=\"color: #800000; text-decoration-color: #800000\">│</span>                                                                                                                 <span style=\"color: #800000; text-decoration-color: #800000\">│</span>\n",
       "<span style=\"color: #800000; text-decoration-color: #800000\">│</span> <span style=\"color: #800000; text-decoration-color: #800000\">❱ </span>401 <span style=\"color: #7f7f7f; text-decoration-color: #7f7f7f\">│   │   │   │   </span><span style=\"color: #0000ff; text-decoration-color: #0000ff\">raise</span> <span style=\"color: #00ffff; text-decoration-color: #00ffff\">self</span>._exception                                                                     <span style=\"color: #800000; text-decoration-color: #800000\">│</span>\n",
       "<span style=\"color: #800000; text-decoration-color: #800000\">│</span>                                                                                                                 <span style=\"color: #800000; text-decoration-color: #800000\">│</span>\n",
       "<span style=\"color: #800000; text-decoration-color: #800000\">│</span> <span style=\"color: #bfbf7f; text-decoration-color: #bfbf7f\">/Users/nielsbantilan/miniforge3/envs/jupyter-notebook-workshop/lib/python3.11/site-packages/flytekit/remote/</span><span style=\"color: #808000; text-decoration-color: #808000; font-weight: bold\">rem</span> <span style=\"color: #800000; text-decoration-color: #800000\">│</span>\n",
       "<span style=\"color: #800000; text-decoration-color: #800000\">│</span> <span style=\"color: #808000; text-decoration-color: #808000; font-weight: bold\">ote.py</span>:<span style=\"color: #0000ff; text-decoration-color: #0000ff\">899</span> in <span style=\"color: #00ff00; text-decoration-color: #00ff00\">_serialize_and_register</span>                                                                           <span style=\"color: #800000; text-decoration-color: #800000\">│</span>\n",
       "<span style=\"color: #800000; text-decoration-color: #800000\">│</span>                                                                                                                 <span style=\"color: #800000; text-decoration-color: #800000\">│</span>\n",
       "<span style=\"color: #800000; text-decoration-color: #800000\">│</span> <span style=\"color: #800000; text-decoration-color: #800000\">❱ </span> 899 <span style=\"color: #7f7f7f; text-decoration-color: #7f7f7f\">│   │   │   │   │   </span><span style=\"color: #00ffff; text-decoration-color: #00ffff\">self</span>.raw_register(cp_entity, serialization_settings, version, og_ent                 <span style=\"color: #800000; text-decoration-color: #800000\">│</span>\n",
       "<span style=\"color: #800000; text-decoration-color: #800000\">│</span>                                                                                                                 <span style=\"color: #800000; text-decoration-color: #800000\">│</span>\n",
       "<span style=\"color: #800000; text-decoration-color: #800000\">│</span> <span style=\"color: #bfbf7f; text-decoration-color: #bfbf7f\">/Users/nielsbantilan/miniforge3/envs/jupyter-notebook-workshop/lib/python3.11/site-packages/flytekit/remote/</span><span style=\"color: #808000; text-decoration-color: #808000; font-weight: bold\">rem</span> <span style=\"color: #800000; text-decoration-color: #800000\">│</span>\n",
       "<span style=\"color: #800000; text-decoration-color: #800000\">│</span> <span style=\"color: #808000; text-decoration-color: #808000; font-weight: bold\">ote.py</span>:<span style=\"color: #0000ff; text-decoration-color: #0000ff\">819</span> in <span style=\"color: #00ff00; text-decoration-color: #00ff00\">raw_register</span>                                                                                      <span style=\"color: #800000; text-decoration-color: #800000\">│</span>\n",
       "<span style=\"color: #800000; text-decoration-color: #800000\">│</span>                                                                                                                 <span style=\"color: #800000; text-decoration-color: #800000\">│</span>\n",
       "<span style=\"color: #800000; text-decoration-color: #800000\">│</span> <span style=\"color: #800000; text-decoration-color: #800000\">❱ </span> 819 <span style=\"color: #7f7f7f; text-decoration-color: #7f7f7f\">│   │   │   │   │   </span><span style=\"color: #00ffff; text-decoration-color: #00ffff\">self</span>.client.create_launch_plan(lp_entity.id, lp_entity.spec)                         <span style=\"color: #800000; text-decoration-color: #800000\">│</span>\n",
       "<span style=\"color: #800000; text-decoration-color: #800000\">│</span>                                                                                                                 <span style=\"color: #800000; text-decoration-color: #800000\">│</span>\n",
       "<span style=\"color: #800000; text-decoration-color: #800000\">│</span> <span style=\"color: #bfbf7f; text-decoration-color: #bfbf7f\">/Users/nielsbantilan/miniforge3/envs/jupyter-notebook-workshop/lib/python3.11/site-packages/flytekit/clients/</span><span style=\"color: #808000; text-decoration-color: #808000; font-weight: bold\">fr</span> <span style=\"color: #800000; text-decoration-color: #800000\">│</span>\n",
       "<span style=\"color: #800000; text-decoration-color: #800000\">│</span> <span style=\"color: #808000; text-decoration-color: #808000; font-weight: bold\">iendly.py</span>:<span style=\"color: #0000ff; text-decoration-color: #0000ff\">339</span> in <span style=\"color: #00ff00; text-decoration-color: #00ff00\">create_launch_plan</span>                                                                             <span style=\"color: #800000; text-decoration-color: #800000\">│</span>\n",
       "<span style=\"color: #800000; text-decoration-color: #800000\">│</span>                                                                                                                 <span style=\"color: #800000; text-decoration-color: #800000\">│</span>\n",
       "<span style=\"color: #800000; text-decoration-color: #800000\">│</span> <span style=\"color: #800000; text-decoration-color: #800000\">❱ </span> 339 <span style=\"color: #7f7f7f; text-decoration-color: #7f7f7f\">│   │   </span><span style=\"color: #00ffff; text-decoration-color: #00ffff\">super</span>(SynchronousFlyteClient, <span style=\"color: #00ffff; text-decoration-color: #00ffff\">self</span>).create_launch_plan(                                          <span style=\"color: #800000; text-decoration-color: #800000\">│</span>\n",
       "<span style=\"color: #800000; text-decoration-color: #800000\">│</span>                                                                                                                 <span style=\"color: #800000; text-decoration-color: #800000\">│</span>\n",
       "<span style=\"color: #800000; text-decoration-color: #800000\">│</span> <span style=\"color: #bfbf7f; text-decoration-color: #bfbf7f\">/Users/nielsbantilan/miniforge3/envs/jupyter-notebook-workshop/lib/python3.11/site-packages/flytekit/clients/</span><span style=\"color: #808000; text-decoration-color: #808000; font-weight: bold\">ra</span> <span style=\"color: #800000; text-decoration-color: #800000\">│</span>\n",
       "<span style=\"color: #800000; text-decoration-color: #800000\">│</span> <span style=\"color: #808000; text-decoration-color: #808000; font-weight: bold\">w.py</span>:<span style=\"color: #0000ff; text-decoration-color: #0000ff\">282</span> in <span style=\"color: #00ff00; text-decoration-color: #00ff00\">create_launch_plan</span>                                                                                  <span style=\"color: #800000; text-decoration-color: #800000\">│</span>\n",
       "<span style=\"color: #800000; text-decoration-color: #800000\">│</span>                                                                                                                 <span style=\"color: #800000; text-decoration-color: #800000\">│</span>\n",
       "<span style=\"color: #800000; text-decoration-color: #800000\">│</span> <span style=\"color: #800000; text-decoration-color: #800000\">❱ </span>282 <span style=\"color: #7f7f7f; text-decoration-color: #7f7f7f\">│   │   </span><span style=\"color: #0000ff; text-decoration-color: #0000ff\">return</span> <span style=\"color: #00ffff; text-decoration-color: #00ffff; font-weight: bold; text-decoration: underline\">self</span><span style=\"font-weight: bold; text-decoration: underline\">._stub.CreateLaunchPlan(launch_plan_create_request, metadata=</span><span style=\"color: #00ffff; text-decoration-color: #00ffff; font-weight: bold; text-decoration: underline\">self</span><span style=\"font-weight: bold; text-decoration: underline\">._me</span>                  <span style=\"color: #800000; text-decoration-color: #800000\">│</span>\n",
       "<span style=\"color: #800000; text-decoration-color: #800000\">│</span>                                                                                                                 <span style=\"color: #800000; text-decoration-color: #800000\">│</span>\n",
       "<span style=\"color: #800000; text-decoration-color: #800000\">│</span> <span style=\"color: #bfbf7f; text-decoration-color: #bfbf7f\">/Users/nielsbantilan/miniforge3/envs/jupyter-notebook-workshop/lib/python3.11/site-packages/grpc/</span><span style=\"color: #808000; text-decoration-color: #808000; font-weight: bold\">_interceptor.p</span> <span style=\"color: #800000; text-decoration-color: #800000\">│</span>\n",
       "<span style=\"color: #800000; text-decoration-color: #800000\">│</span> <span style=\"color: #808000; text-decoration-color: #808000; font-weight: bold\">y</span>:<span style=\"color: #0000ff; text-decoration-color: #0000ff\">277</span> in <span style=\"color: #00ff00; text-decoration-color: #00ff00\">__call__</span>                                                                                               <span style=\"color: #800000; text-decoration-color: #800000\">│</span>\n",
       "<span style=\"color: #800000; text-decoration-color: #800000\">│</span>                                                                                                                 <span style=\"color: #800000; text-decoration-color: #800000\">│</span>\n",
       "<span style=\"color: #800000; text-decoration-color: #800000\">│</span> <span style=\"color: #800000; text-decoration-color: #800000\">❱ </span>277 <span style=\"color: #7f7f7f; text-decoration-color: #7f7f7f\">│   │   </span>response, ignored_call = <span style=\"color: #00ffff; text-decoration-color: #00ffff\">self</span>._with_call(                                                         <span style=\"color: #800000; text-decoration-color: #800000\">│</span>\n",
       "<span style=\"color: #800000; text-decoration-color: #800000\">│</span>                                                                                                                 <span style=\"color: #800000; text-decoration-color: #800000\">│</span>\n",
       "<span style=\"color: #800000; text-decoration-color: #800000\">│</span> <span style=\"color: #bfbf7f; text-decoration-color: #bfbf7f\">/Users/nielsbantilan/miniforge3/envs/jupyter-notebook-workshop/lib/python3.11/site-packages/grpc/</span><span style=\"color: #808000; text-decoration-color: #808000; font-weight: bold\">_interceptor.p</span> <span style=\"color: #800000; text-decoration-color: #800000\">│</span>\n",
       "<span style=\"color: #800000; text-decoration-color: #800000\">│</span> <span style=\"color: #808000; text-decoration-color: #808000; font-weight: bold\">y</span>:<span style=\"color: #0000ff; text-decoration-color: #0000ff\">329</span> in <span style=\"color: #00ff00; text-decoration-color: #00ff00\">_with_call</span>                                                                                             <span style=\"color: #800000; text-decoration-color: #800000\">│</span>\n",
       "<span style=\"color: #800000; text-decoration-color: #800000\">│</span>                                                                                                                 <span style=\"color: #800000; text-decoration-color: #800000\">│</span>\n",
       "<span style=\"color: #800000; text-decoration-color: #800000\">│</span> <span style=\"color: #800000; text-decoration-color: #800000\">❱ </span>329 <span style=\"color: #7f7f7f; text-decoration-color: #7f7f7f\">│   │   </span>call = <span style=\"color: #00ffff; text-decoration-color: #00ffff\">self</span>._interceptor.intercept_unary_unary(                                                   <span style=\"color: #800000; text-decoration-color: #800000\">│</span>\n",
       "<span style=\"color: #800000; text-decoration-color: #800000\">│</span>                                                                                                                 <span style=\"color: #800000; text-decoration-color: #800000\">│</span>\n",
       "<span style=\"color: #800000; text-decoration-color: #800000\">│</span> <span style=\"color: #bfbf7f; text-decoration-color: #bfbf7f\">/Users/nielsbantilan/miniforge3/envs/jupyter-notebook-workshop/lib/python3.11/site-packages/flytekit/clients/gr</span> <span style=\"color: #800000; text-decoration-color: #800000\">│</span>\n",
       "<span style=\"color: #800000; text-decoration-color: #800000\">│</span> <span style=\"color: #bfbf7f; text-decoration-color: #bfbf7f\">pc_utils/</span><span style=\"color: #808000; text-decoration-color: #808000; font-weight: bold\">wrap_exception_interceptor.py</span>:<span style=\"color: #0000ff; text-decoration-color: #0000ff\">46</span> in <span style=\"color: #00ff00; text-decoration-color: #00ff00\">intercept_unary_unary</span>                                              <span style=\"color: #800000; text-decoration-color: #800000\">│</span>\n",
       "<span style=\"color: #800000; text-decoration-color: #800000\">│</span>                                                                                                                 <span style=\"color: #800000; text-decoration-color: #800000\">│</span>\n",
       "<span style=\"color: #800000; text-decoration-color: #800000\">│</span> <span style=\"color: #800000; text-decoration-color: #800000\">❱ </span>46 <span style=\"color: #7f7f7f; text-decoration-color: #7f7f7f\">│   │   │   │   │   </span><span style=\"color: #0000ff; text-decoration-color: #0000ff; font-weight: bold; text-decoration: underline\">raise</span><span style=\"font-weight: bold; text-decoration: underline\"> e</span>                                                                                <span style=\"color: #800000; text-decoration-color: #800000\">│</span>\n",
       "<span style=\"color: #800000; text-decoration-color: #800000\">│</span>                                                                                                                 <span style=\"color: #800000; text-decoration-color: #800000\">│</span>\n",
       "<span style=\"color: #800000; text-decoration-color: #800000\">│</span> <span style=\"color: #bfbf7f; text-decoration-color: #bfbf7f\">/Users/nielsbantilan/miniforge3/envs/jupyter-notebook-workshop/lib/python3.11/site-packages/flytekit/clients/gr</span> <span style=\"color: #800000; text-decoration-color: #800000\">│</span>\n",
       "<span style=\"color: #800000; text-decoration-color: #800000\">│</span> <span style=\"color: #bfbf7f; text-decoration-color: #bfbf7f\">pc_utils/</span><span style=\"color: #808000; text-decoration-color: #808000; font-weight: bold\">wrap_exception_interceptor.py</span>:<span style=\"color: #0000ff; text-decoration-color: #0000ff\">42</span> in <span style=\"color: #00ff00; text-decoration-color: #00ff00\">intercept_unary_unary</span>                                              <span style=\"color: #800000; text-decoration-color: #800000\">│</span>\n",
       "<span style=\"color: #800000; text-decoration-color: #800000\">│</span>                                                                                                                 <span style=\"color: #800000; text-decoration-color: #800000\">│</span>\n",
       "<span style=\"color: #800000; text-decoration-color: #800000\">│</span> <span style=\"color: #800000; text-decoration-color: #800000\">❱ </span>42 <span style=\"color: #7f7f7f; text-decoration-color: #7f7f7f\">│   │   │   │   │   </span><span style=\"color: #00ffff; text-decoration-color: #00ffff\">self</span>._raise_if_exc(request, e)                                                         <span style=\"color: #800000; text-decoration-color: #800000\">│</span>\n",
       "<span style=\"color: #800000; text-decoration-color: #800000\">│</span>                                                                                                                 <span style=\"color: #800000; text-decoration-color: #800000\">│</span>\n",
       "<span style=\"color: #800000; text-decoration-color: #800000\">│</span> <span style=\"color: #bfbf7f; text-decoration-color: #bfbf7f\">/Users/nielsbantilan/miniforge3/envs/jupyter-notebook-workshop/lib/python3.11/site-packages/flytekit/clients/gr</span> <span style=\"color: #800000; text-decoration-color: #800000\">│</span>\n",
       "<span style=\"color: #800000; text-decoration-color: #800000\">│</span> <span style=\"color: #bfbf7f; text-decoration-color: #bfbf7f\">pc_utils/</span><span style=\"color: #808000; text-decoration-color: #808000; font-weight: bold\">wrap_exception_interceptor.py</span>:<span style=\"color: #0000ff; text-decoration-color: #0000ff\">30</span> in <span style=\"color: #00ff00; text-decoration-color: #00ff00\">_raise_if_exc</span>                                                      <span style=\"color: #800000; text-decoration-color: #800000\">│</span>\n",
       "<span style=\"color: #800000; text-decoration-color: #800000\">│</span>                                                                                                                 <span style=\"color: #800000; text-decoration-color: #800000\">│</span>\n",
       "<span style=\"color: #800000; text-decoration-color: #800000\">│</span> <span style=\"color: #800000; text-decoration-color: #800000\">❱ </span>30 <span style=\"color: #7f7f7f; text-decoration-color: #7f7f7f\">│   │   │   │   </span><span style=\"color: #0000ff; text-decoration-color: #0000ff; font-weight: bold; text-decoration: underline\">raise</span><span style=\"font-weight: bold; text-decoration: underline\"> FlyteInvalidInputException(request) </span><span style=\"color: #0000ff; text-decoration-color: #0000ff; font-weight: bold; text-decoration: underline\">from</span><span style=\"font-weight: bold; text-decoration: underline\"> </span><span style=\"color: #00ffff; text-decoration-color: #00ffff; font-weight: bold; text-decoration: underline\">e</span>                                           <span style=\"color: #800000; text-decoration-color: #800000\">│</span>\n",
       "<span style=\"color: #800000; text-decoration-color: #800000\">╰─────────────────────────────────────────────────────────────────────────────────────────────────────────────────╯</span>\n",
       "<span style=\"color: #ff0000; text-decoration-color: #ff0000; font-weight: bold\">FlyteInvalidInputException: </span>USER:BadInputToAPI: <span style=\"color: #808000; text-decoration-color: #808000\">error</span>=<span style=\"color: #800080; text-decoration-color: #800080; font-style: italic\">None</span>, <span style=\"color: #808000; text-decoration-color: #808000\">cause</span>=<span style=\"font-weight: bold\">&lt;</span><span style=\"color: #ff00ff; text-decoration-color: #ff00ff; font-weight: bold\">_InactiveRpcError</span><span style=\"color: #000000; text-decoration-color: #000000\"> of RPC that terminated with:</span>\n",
       "<span style=\"color: #000000; text-decoration-color: #000000\">        status = StatusCode.INVALID_ARGUMENT</span>\n",
       "<span style=\"color: #000000; text-decoration-color: #000000\">        details = </span><span style=\"color: #008000; text-decoration-color: #008000\">\"invalid launch plan default inputs, expected none but found 1\"</span>\n",
       "<span style=\"color: #000000; text-decoration-color: #000000\">        debug_error_string = </span><span style=\"color: #008000; text-decoration-color: #008000\">\"UNKNOWN:Error received from peer  {created_time:\"</span><span style=\"color: #008080; text-decoration-color: #008080; font-weight: bold\">2025</span><span style=\"color: #000000; text-decoration-color: #000000\">-</span><span style=\"color: #008080; text-decoration-color: #008080; font-weight: bold\">01</span><span style=\"color: #000000; text-decoration-color: #000000\">-17T</span><span style=\"color: #00ff00; text-decoration-color: #00ff00; font-weight: bold\">13:59:24</span><span style=\"color: #000000; text-decoration-color: #000000\">.</span><span style=\"color: #008080; text-decoration-color: #008080; font-weight: bold\">257185</span><span style=\"color: #000000; text-decoration-color: #000000\">-</span><span style=\"color: #00ff00; text-decoration-color: #00ff00; font-weight: bold\">05:00</span><span style=\"color: #000000; text-decoration-color: #000000\">\", </span>\n",
       "<span style=\"color: #000000; text-decoration-color: #000000\">grpc_status:</span><span style=\"color: #008080; text-decoration-color: #008080; font-weight: bold\">3</span><span style=\"color: #000000; text-decoration-color: #000000\">, grpc_message:</span><span style=\"color: #008000; text-decoration-color: #008000\">\"invalid launch plan default inputs, expected none but found 1\"</span><span style=\"color: #000000; text-decoration-color: #000000; font-weight: bold\">}</span><span style=\"color: #000000; text-decoration-color: #000000\">\"</span>\n",
       "<span style=\"font-weight: bold\">&gt;</span>\n",
       "</pre>\n"
      ],
      "text/plain": [
       "\u001b[31m╭─\u001b[0m\u001b[31m──────────────────────────────────────\u001b[0m\u001b[31m \u001b[0m\u001b[1;31mTraceback \u001b[0m\u001b[1;2;31m(most recent call last)\u001b[0m\u001b[31m \u001b[0m\u001b[31m──────────────────────────────────────\u001b[0m\u001b[31m─╮\u001b[0m\n",
       "\u001b[31m│\u001b[0m \u001b[2;33m/Users/nielsbantilan/miniforge3/envs/jupyter-notebook-workshop/lib/python3.11/site-packages/grpc/\u001b[0m\u001b[1;33m_interceptor.p\u001b[0m \u001b[31m│\u001b[0m\n",
       "\u001b[31m│\u001b[0m \u001b[1;33my\u001b[0m:\u001b[94m315\u001b[0m in \u001b[92mcontinuation\u001b[0m                                                                                           \u001b[31m│\u001b[0m\n",
       "\u001b[31m│\u001b[0m                                                                                                                 \u001b[31m│\u001b[0m\n",
       "\u001b[31m│\u001b[0m \u001b[31m❱ \u001b[0m315 \u001b[2m│   │   │   │   \u001b[0mresponse, call = \u001b[96mself\u001b[0m._thunk(new_method).with_call(                                       \u001b[31m│\u001b[0m\n",
       "\u001b[31m│\u001b[0m                                                                                                                 \u001b[31m│\u001b[0m\n",
       "\u001b[31m│\u001b[0m \u001b[2;33m/Users/nielsbantilan/miniforge3/envs/jupyter-notebook-workshop/lib/python3.11/site-packages/grpc/\u001b[0m\u001b[1;33m_interceptor.p\u001b[0m \u001b[31m│\u001b[0m\n",
       "\u001b[31m│\u001b[0m \u001b[1;33my\u001b[0m:\u001b[94m343\u001b[0m in \u001b[92mwith_call\u001b[0m                                                                                              \u001b[31m│\u001b[0m\n",
       "\u001b[31m│\u001b[0m                                                                                                                 \u001b[31m│\u001b[0m\n",
       "\u001b[31m│\u001b[0m \u001b[31m❱ \u001b[0m343 \u001b[2m│   │   \u001b[0m\u001b[94mreturn\u001b[0m \u001b[96mself\u001b[0m._with_call(                                                                           \u001b[31m│\u001b[0m\n",
       "\u001b[31m│\u001b[0m                                                                                                                 \u001b[31m│\u001b[0m\n",
       "\u001b[31m│\u001b[0m \u001b[2;33m/Users/nielsbantilan/miniforge3/envs/jupyter-notebook-workshop/lib/python3.11/site-packages/grpc/\u001b[0m\u001b[1;33m_interceptor.p\u001b[0m \u001b[31m│\u001b[0m\n",
       "\u001b[31m│\u001b[0m \u001b[1;33my\u001b[0m:\u001b[94m332\u001b[0m in \u001b[92m_with_call\u001b[0m                                                                                             \u001b[31m│\u001b[0m\n",
       "\u001b[31m│\u001b[0m                                                                                                                 \u001b[31m│\u001b[0m\n",
       "\u001b[31m│\u001b[0m \u001b[31m❱ \u001b[0m332 \u001b[2m│   │   \u001b[0m\u001b[94mreturn\u001b[0m \u001b[1;4mcall.result()\u001b[0m, call                                                                        \u001b[31m│\u001b[0m\n",
       "\u001b[31m│\u001b[0m                                                                                                                 \u001b[31m│\u001b[0m\n",
       "\u001b[31m│\u001b[0m \u001b[2;33m/Users/nielsbantilan/miniforge3/envs/jupyter-notebook-workshop/lib/python3.11/site-packages/grpc/\u001b[0m\u001b[1;33m_channel.py\u001b[0m:\u001b[94m44\u001b[0m \u001b[31m│\u001b[0m\n",
       "\u001b[31m│\u001b[0m \u001b[94m0\u001b[0m in \u001b[92mresult\u001b[0m                                                                                                     \u001b[31m│\u001b[0m\n",
       "\u001b[31m│\u001b[0m                                                                                                                 \u001b[31m│\u001b[0m\n",
       "\u001b[31m│\u001b[0m \u001b[31m❱ \u001b[0m 440 \u001b[2m│   │   \u001b[0m\u001b[1;4;94mraise\u001b[0m\u001b[1;4m \u001b[0m\u001b[1;4;96mself\u001b[0m                                                                                       \u001b[31m│\u001b[0m\n",
       "\u001b[31m│\u001b[0m                                                                                                                 \u001b[31m│\u001b[0m\n",
       "\u001b[31m│\u001b[0m \u001b[2;33m/Users/nielsbantilan/miniforge3/envs/jupyter-notebook-workshop/lib/python3.11/site-packages/grpc/\u001b[0m\u001b[1;33m_interceptor.p\u001b[0m \u001b[31m│\u001b[0m\n",
       "\u001b[31m│\u001b[0m \u001b[1;33my\u001b[0m:\u001b[94m315\u001b[0m in \u001b[92mcontinuation\u001b[0m                                                                                           \u001b[31m│\u001b[0m\n",
       "\u001b[31m│\u001b[0m                                                                                                                 \u001b[31m│\u001b[0m\n",
       "\u001b[31m│\u001b[0m \u001b[31m❱ \u001b[0m315 \u001b[2m│   │   │   │   \u001b[0mresponse, call = \u001b[96mself\u001b[0m._thunk(new_method).with_call(                                       \u001b[31m│\u001b[0m\n",
       "\u001b[31m│\u001b[0m                                                                                                                 \u001b[31m│\u001b[0m\n",
       "\u001b[31m│\u001b[0m \u001b[2;33m/Users/nielsbantilan/miniforge3/envs/jupyter-notebook-workshop/lib/python3.11/site-packages/grpc/\u001b[0m\u001b[1;33m_interceptor.p\u001b[0m \u001b[31m│\u001b[0m\n",
       "\u001b[31m│\u001b[0m \u001b[1;33my\u001b[0m:\u001b[94m343\u001b[0m in \u001b[92mwith_call\u001b[0m                                                                                              \u001b[31m│\u001b[0m\n",
       "\u001b[31m│\u001b[0m                                                                                                                 \u001b[31m│\u001b[0m\n",
       "\u001b[31m│\u001b[0m \u001b[31m❱ \u001b[0m343 \u001b[2m│   │   \u001b[0m\u001b[94mreturn\u001b[0m \u001b[96mself\u001b[0m._with_call(                                                                           \u001b[31m│\u001b[0m\n",
       "\u001b[31m│\u001b[0m                                                                                                                 \u001b[31m│\u001b[0m\n",
       "\u001b[31m│\u001b[0m \u001b[2;33m/Users/nielsbantilan/miniforge3/envs/jupyter-notebook-workshop/lib/python3.11/site-packages/grpc/\u001b[0m\u001b[1;33m_interceptor.p\u001b[0m \u001b[31m│\u001b[0m\n",
       "\u001b[31m│\u001b[0m \u001b[1;33my\u001b[0m:\u001b[94m332\u001b[0m in \u001b[92m_with_call\u001b[0m                                                                                             \u001b[31m│\u001b[0m\n",
       "\u001b[31m│\u001b[0m                                                                                                                 \u001b[31m│\u001b[0m\n",
       "\u001b[31m│\u001b[0m \u001b[31m❱ \u001b[0m332 \u001b[2m│   │   \u001b[0m\u001b[94mreturn\u001b[0m \u001b[1;4mcall.result()\u001b[0m, call                                                                        \u001b[31m│\u001b[0m\n",
       "\u001b[31m│\u001b[0m                                                                                                                 \u001b[31m│\u001b[0m\n",
       "\u001b[31m│\u001b[0m \u001b[2;33m/Users/nielsbantilan/miniforge3/envs/jupyter-notebook-workshop/lib/python3.11/site-packages/grpc/\u001b[0m\u001b[1;33m_channel.py\u001b[0m:\u001b[94m44\u001b[0m \u001b[31m│\u001b[0m\n",
       "\u001b[31m│\u001b[0m \u001b[94m0\u001b[0m in \u001b[92mresult\u001b[0m                                                                                                     \u001b[31m│\u001b[0m\n",
       "\u001b[31m│\u001b[0m                                                                                                                 \u001b[31m│\u001b[0m\n",
       "\u001b[31m│\u001b[0m \u001b[31m❱ \u001b[0m 440 \u001b[2m│   │   \u001b[0m\u001b[1;4;94mraise\u001b[0m\u001b[1;4m \u001b[0m\u001b[1;4;96mself\u001b[0m                                                                                       \u001b[31m│\u001b[0m\n",
       "\u001b[31m│\u001b[0m                                                                                                                 \u001b[31m│\u001b[0m\n",
       "\u001b[31m│\u001b[0m \u001b[2;33m/Users/nielsbantilan/miniforge3/envs/jupyter-notebook-workshop/lib/python3.11/site-packages/grpc/\u001b[0m\u001b[1;33m_interceptor.p\u001b[0m \u001b[31m│\u001b[0m\n",
       "\u001b[31m│\u001b[0m \u001b[1;33my\u001b[0m:\u001b[94m315\u001b[0m in \u001b[92mcontinuation\u001b[0m                                                                                           \u001b[31m│\u001b[0m\n",
       "\u001b[31m│\u001b[0m                                                                                                                 \u001b[31m│\u001b[0m\n",
       "\u001b[31m│\u001b[0m \u001b[31m❱ \u001b[0m315 \u001b[2m│   │   │   │   \u001b[0mresponse, call = \u001b[96mself\u001b[0m._thunk(new_method).with_call(                                       \u001b[31m│\u001b[0m\n",
       "\u001b[31m│\u001b[0m                                                                                                                 \u001b[31m│\u001b[0m\n",
       "\u001b[31m│\u001b[0m \u001b[2;33m/Users/nielsbantilan/miniforge3/envs/jupyter-notebook-workshop/lib/python3.11/site-packages/grpc/\u001b[0m\u001b[1;33m_channel.py\u001b[0m:\u001b[94m11\u001b[0m \u001b[31m│\u001b[0m\n",
       "\u001b[31m│\u001b[0m \u001b[94m98\u001b[0m in \u001b[92mwith_call\u001b[0m                                                                                                 \u001b[31m│\u001b[0m\n",
       "\u001b[31m│\u001b[0m                                                                                                                 \u001b[31m│\u001b[0m\n",
       "\u001b[31m│\u001b[0m \u001b[31m❱ \u001b[0m1198 \u001b[2m│   │   \u001b[0m\u001b[94mreturn\u001b[0m \u001b[1;4m_end_unary_response_blocking(state, call, \u001b[0m\u001b[1;4;94mTrue\u001b[0m\u001b[1;4m, \u001b[0m\u001b[1;4;94mNone\u001b[0m\u001b[1;4m)\u001b[0m                                     \u001b[31m│\u001b[0m\n",
       "\u001b[31m│\u001b[0m                                                                                                                 \u001b[31m│\u001b[0m\n",
       "\u001b[31m│\u001b[0m \u001b[2;33m/Users/nielsbantilan/miniforge3/envs/jupyter-notebook-workshop/lib/python3.11/site-packages/grpc/\u001b[0m\u001b[1;33m_channel.py\u001b[0m:\u001b[94m10\u001b[0m \u001b[31m│\u001b[0m\n",
       "\u001b[31m│\u001b[0m \u001b[94m06\u001b[0m in \u001b[92m_end_unary_response_blocking\u001b[0m                                                                              \u001b[31m│\u001b[0m\n",
       "\u001b[31m│\u001b[0m                                                                                                                 \u001b[31m│\u001b[0m\n",
       "\u001b[31m│\u001b[0m \u001b[31m❱ \u001b[0m1006 \u001b[2m│   │   \u001b[0m\u001b[1;4;94mraise\u001b[0m\u001b[1;4m _InactiveRpcError(state)\u001b[0m  \u001b[2m# pytype: disable=not-instantiable\u001b[0m                               \u001b[31m│\u001b[0m\n",
       "\u001b[31m╰─────────────────────────────────────────────────────────────────────────────────────────────────────────────────╯\u001b[0m\n",
       "\u001b[1;91m_InactiveRpcError: \u001b[0m\u001b[1m<\u001b[0m\u001b[1;95m_InactiveRpcError\u001b[0m\u001b[39m of RPC that terminated with:\u001b[0m\n",
       "\u001b[39m        \u001b[0m\u001b[39mstatus = StatusCode.INVALID_ARGUMENT\u001b[0m\n",
       "\u001b[39m        \u001b[0m\u001b[39mdetails = \u001b[0m\u001b[32m\"invalid launch plan default inputs, expected none but found 1\"\u001b[0m\n",
       "\u001b[39m        \u001b[0m\u001b[39mdebug_error_string = \u001b[0m\u001b[32m\"UNKNOWN:Error received from peer  \u001b[0m\u001b[32m{\u001b[0m\u001b[32mcreated_time:\"\u001b[0m\u001b[1;36m2025\u001b[0m\u001b[39m-\u001b[0m\u001b[1;36m01\u001b[0m\u001b[39m-17T\u001b[0m\u001b[1;92m13:59:24\u001b[0m\u001b[39m.\u001b[0m\u001b[1;36m257185\u001b[0m\u001b[39m-\u001b[0m\u001b[1;92m05:00\u001b[0m\u001b[39m\", \u001b[0m\n",
       "\u001b[39mgrpc_status:\u001b[0m\u001b[1;36m3\u001b[0m\u001b[39m, grpc_message:\u001b[0m\u001b[32m\"invalid launch plan default inputs, expected none but found 1\"\u001b[0m\u001b[1;39m}\u001b[0m\u001b[39m\"\u001b[0m\n",
       "\u001b[1m>\u001b[0m\n",
       "\n",
       "\u001b[3mThe above exception was the direct cause of the following exception:\u001b[0m\n",
       "\n",
       "\u001b[31m╭─\u001b[0m\u001b[31m──────────────────────────────────────\u001b[0m\u001b[31m \u001b[0m\u001b[1;31mTraceback \u001b[0m\u001b[1;2;31m(most recent call last)\u001b[0m\u001b[31m \u001b[0m\u001b[31m──────────────────────────────────────\u001b[0m\u001b[31m─╮\u001b[0m\n",
       "\u001b[31m│\u001b[0m in \u001b[92m<module>\u001b[0m:\u001b[94m1\u001b[0m                                                                                                   \u001b[31m│\u001b[0m\n",
       "\u001b[31m│\u001b[0m                                                                                                                 \u001b[31m│\u001b[0m\n",
       "\u001b[31m│\u001b[0m \u001b[31m❱ \u001b[0m1 model_exe = \u001b[1;4mremote.execute(train_wf, inputs={\u001b[0m\u001b[1;4;33m\"\u001b[0m\u001b[1;4;33mdataframe\u001b[0m\u001b[1;4;33m\"\u001b[0m\u001b[1;4m: dataframe})\u001b[0m                                       \u001b[31m│\u001b[0m\n",
       "\u001b[31m│\u001b[0m                                                                                                                 \u001b[31m│\u001b[0m\n",
       "\u001b[31m│\u001b[0m \u001b[2;33m/Users/nielsbantilan/miniforge3/envs/jupyter-notebook-workshop/lib/python3.11/site-packages/flytekit/remote/\u001b[0m\u001b[1;33mrem\u001b[0m \u001b[31m│\u001b[0m\n",
       "\u001b[31m│\u001b[0m \u001b[1;33mote.py\u001b[0m:\u001b[94m1666\u001b[0m in \u001b[92mexecute\u001b[0m                                                                                          \u001b[31m│\u001b[0m\n",
       "\u001b[31m│\u001b[0m                                                                                                                 \u001b[31m│\u001b[0m\n",
       "\u001b[31m│\u001b[0m \u001b[31m❱ \u001b[0m1666 \u001b[2m│   │   │   \u001b[0m\u001b[94mreturn\u001b[0m \u001b[96mself\u001b[0m.execute_local_workflow(                                                          \u001b[31m│\u001b[0m\n",
       "\u001b[31m│\u001b[0m                                                                                                                 \u001b[31m│\u001b[0m\n",
       "\u001b[31m│\u001b[0m \u001b[2;33m/Users/nielsbantilan/miniforge3/envs/jupyter-notebook-workshop/lib/python3.11/site-packages/flytekit/remote/\u001b[0m\u001b[1;33mrem\u001b[0m \u001b[31m│\u001b[0m\n",
       "\u001b[31m│\u001b[0m \u001b[1;33mote.py\u001b[0m:\u001b[94m2085\u001b[0m in \u001b[92mexecute_local_workflow\u001b[0m                                                                           \u001b[31m│\u001b[0m\n",
       "\u001b[31m│\u001b[0m                                                                                                                 \u001b[31m│\u001b[0m\n",
       "\u001b[31m│\u001b[0m \u001b[31m❱ \u001b[0m2085 \u001b[2m│   │   │   \u001b[0m\u001b[1;4;96mself\u001b[0m\u001b[1;4m.register_workflow(entity, ss, version=version, options=options)\u001b[0m                         \u001b[31m│\u001b[0m\n",
       "\u001b[31m│\u001b[0m                                                                                                                 \u001b[31m│\u001b[0m\n",
       "\u001b[31m│\u001b[0m \u001b[2;33m/Users/nielsbantilan/miniforge3/envs/jupyter-notebook-workshop/lib/python3.11/site-packages/flytekit/remote/\u001b[0m\u001b[1;33mrem\u001b[0m \u001b[31m│\u001b[0m\n",
       "\u001b[31m│\u001b[0m \u001b[1;33mote.py\u001b[0m:\u001b[94m973\u001b[0m in \u001b[92mregister_workflow\u001b[0m                                                                                 \u001b[31m│\u001b[0m\n",
       "\u001b[31m│\u001b[0m                                                                                                                 \u001b[31m│\u001b[0m\n",
       "\u001b[31m│\u001b[0m \u001b[31m❱ \u001b[0m 973 \u001b[2m│   │   \u001b[0mident = run_sync(                                                                                \u001b[31m│\u001b[0m\n",
       "\u001b[31m│\u001b[0m                                                                                                                 \u001b[31m│\u001b[0m\n",
       "\u001b[31m│\u001b[0m \u001b[2;33m/Users/nielsbantilan/miniforge3/envs/jupyter-notebook-workshop/lib/python3.11/site-packages/flytekit/utils/\u001b[0m\u001b[1;33masyn\u001b[0m \u001b[31m│\u001b[0m\n",
       "\u001b[31m│\u001b[0m \u001b[1;33m.py\u001b[0m:\u001b[94m93\u001b[0m in \u001b[92mrun_sync\u001b[0m                                                                                              \u001b[31m│\u001b[0m\n",
       "\u001b[31m│\u001b[0m                                                                                                                 \u001b[31m│\u001b[0m\n",
       "\u001b[31m│\u001b[0m \u001b[31m❱ \u001b[0m 93 \u001b[2m│   │   \u001b[0m\u001b[94mreturn\u001b[0m \u001b[1;4;96mself\u001b[0m\u001b[1;4m._runner_map[name].run(coro)\u001b[0m                                                           \u001b[31m│\u001b[0m\n",
       "\u001b[31m│\u001b[0m                                                                                                                 \u001b[31m│\u001b[0m\n",
       "\u001b[31m│\u001b[0m \u001b[2;33m/Users/nielsbantilan/miniforge3/envs/jupyter-notebook-workshop/lib/python3.11/site-packages/flytekit/utils/\u001b[0m\u001b[1;33masyn\u001b[0m \u001b[31m│\u001b[0m\n",
       "\u001b[31m│\u001b[0m \u001b[1;33m.py\u001b[0m:\u001b[94m72\u001b[0m in \u001b[92mrun\u001b[0m                                                                                                   \u001b[31m│\u001b[0m\n",
       "\u001b[31m│\u001b[0m                                                                                                                 \u001b[31m│\u001b[0m\n",
       "\u001b[31m│\u001b[0m \u001b[31m❱ \u001b[0m 72 \u001b[2m│   │   \u001b[0mres = \u001b[1;4mfut.result(\u001b[0m\u001b[1;4;94mNone\u001b[0m\u001b[1;4m)\u001b[0m                                                                            \u001b[31m│\u001b[0m\n",
       "\u001b[31m│\u001b[0m                                                                                                                 \u001b[31m│\u001b[0m\n",
       "\u001b[31m│\u001b[0m \u001b[2;33m/Users/nielsbantilan/miniforge3/envs/jupyter-notebook-workshop/lib/python3.11/concurrent/futures/\u001b[0m\u001b[1;33m_base.py\u001b[0m:\u001b[94m456\u001b[0m   \u001b[31m│\u001b[0m\n",
       "\u001b[31m│\u001b[0m in \u001b[92mresult\u001b[0m                                                                                                       \u001b[31m│\u001b[0m\n",
       "\u001b[31m│\u001b[0m                                                                                                                 \u001b[31m│\u001b[0m\n",
       "\u001b[31m│\u001b[0m \u001b[31m❱ \u001b[0m456 \u001b[2m│   │   │   │   │   \u001b[0m\u001b[94mreturn\u001b[0m \u001b[96mself\u001b[0m.__get_result()                                                            \u001b[31m│\u001b[0m\n",
       "\u001b[31m│\u001b[0m                                                                                                                 \u001b[31m│\u001b[0m\n",
       "\u001b[31m│\u001b[0m \u001b[2;33m/Users/nielsbantilan/miniforge3/envs/jupyter-notebook-workshop/lib/python3.11/concurrent/futures/\u001b[0m\u001b[1;33m_base.py\u001b[0m:\u001b[94m401\u001b[0m   \u001b[31m│\u001b[0m\n",
       "\u001b[31m│\u001b[0m in \u001b[92m__get_result\u001b[0m                                                                                                 \u001b[31m│\u001b[0m\n",
       "\u001b[31m│\u001b[0m                                                                                                                 \u001b[31m│\u001b[0m\n",
       "\u001b[31m│\u001b[0m \u001b[31m❱ \u001b[0m401 \u001b[2m│   │   │   │   \u001b[0m\u001b[94mraise\u001b[0m \u001b[96mself\u001b[0m._exception                                                                     \u001b[31m│\u001b[0m\n",
       "\u001b[31m│\u001b[0m                                                                                                                 \u001b[31m│\u001b[0m\n",
       "\u001b[31m│\u001b[0m \u001b[2;33m/Users/nielsbantilan/miniforge3/envs/jupyter-notebook-workshop/lib/python3.11/site-packages/flytekit/remote/\u001b[0m\u001b[1;33mrem\u001b[0m \u001b[31m│\u001b[0m\n",
       "\u001b[31m│\u001b[0m \u001b[1;33mote.py\u001b[0m:\u001b[94m899\u001b[0m in \u001b[92m_serialize_and_register\u001b[0m                                                                           \u001b[31m│\u001b[0m\n",
       "\u001b[31m│\u001b[0m                                                                                                                 \u001b[31m│\u001b[0m\n",
       "\u001b[31m│\u001b[0m \u001b[31m❱ \u001b[0m 899 \u001b[2m│   │   │   │   │   \u001b[0m\u001b[96mself\u001b[0m.raw_register(cp_entity, serialization_settings, version, og_ent                 \u001b[31m│\u001b[0m\n",
       "\u001b[31m│\u001b[0m                                                                                                                 \u001b[31m│\u001b[0m\n",
       "\u001b[31m│\u001b[0m \u001b[2;33m/Users/nielsbantilan/miniforge3/envs/jupyter-notebook-workshop/lib/python3.11/site-packages/flytekit/remote/\u001b[0m\u001b[1;33mrem\u001b[0m \u001b[31m│\u001b[0m\n",
       "\u001b[31m│\u001b[0m \u001b[1;33mote.py\u001b[0m:\u001b[94m819\u001b[0m in \u001b[92mraw_register\u001b[0m                                                                                      \u001b[31m│\u001b[0m\n",
       "\u001b[31m│\u001b[0m                                                                                                                 \u001b[31m│\u001b[0m\n",
       "\u001b[31m│\u001b[0m \u001b[31m❱ \u001b[0m 819 \u001b[2m│   │   │   │   │   \u001b[0m\u001b[96mself\u001b[0m.client.create_launch_plan(lp_entity.id, lp_entity.spec)                         \u001b[31m│\u001b[0m\n",
       "\u001b[31m│\u001b[0m                                                                                                                 \u001b[31m│\u001b[0m\n",
       "\u001b[31m│\u001b[0m \u001b[2;33m/Users/nielsbantilan/miniforge3/envs/jupyter-notebook-workshop/lib/python3.11/site-packages/flytekit/clients/\u001b[0m\u001b[1;33mfr\u001b[0m \u001b[31m│\u001b[0m\n",
       "\u001b[31m│\u001b[0m \u001b[1;33miendly.py\u001b[0m:\u001b[94m339\u001b[0m in \u001b[92mcreate_launch_plan\u001b[0m                                                                             \u001b[31m│\u001b[0m\n",
       "\u001b[31m│\u001b[0m                                                                                                                 \u001b[31m│\u001b[0m\n",
       "\u001b[31m│\u001b[0m \u001b[31m❱ \u001b[0m 339 \u001b[2m│   │   \u001b[0m\u001b[96msuper\u001b[0m(SynchronousFlyteClient, \u001b[96mself\u001b[0m).create_launch_plan(                                          \u001b[31m│\u001b[0m\n",
       "\u001b[31m│\u001b[0m                                                                                                                 \u001b[31m│\u001b[0m\n",
       "\u001b[31m│\u001b[0m \u001b[2;33m/Users/nielsbantilan/miniforge3/envs/jupyter-notebook-workshop/lib/python3.11/site-packages/flytekit/clients/\u001b[0m\u001b[1;33mra\u001b[0m \u001b[31m│\u001b[0m\n",
       "\u001b[31m│\u001b[0m \u001b[1;33mw.py\u001b[0m:\u001b[94m282\u001b[0m in \u001b[92mcreate_launch_plan\u001b[0m                                                                                  \u001b[31m│\u001b[0m\n",
       "\u001b[31m│\u001b[0m                                                                                                                 \u001b[31m│\u001b[0m\n",
       "\u001b[31m│\u001b[0m \u001b[31m❱ \u001b[0m282 \u001b[2m│   │   \u001b[0m\u001b[94mreturn\u001b[0m \u001b[1;4;96mself\u001b[0m\u001b[1;4m._stub.CreateLaunchPlan(launch_plan_create_request, metadata=\u001b[0m\u001b[1;4;96mself\u001b[0m\u001b[1;4m._me\u001b[0m                  \u001b[31m│\u001b[0m\n",
       "\u001b[31m│\u001b[0m                                                                                                                 \u001b[31m│\u001b[0m\n",
       "\u001b[31m│\u001b[0m \u001b[2;33m/Users/nielsbantilan/miniforge3/envs/jupyter-notebook-workshop/lib/python3.11/site-packages/grpc/\u001b[0m\u001b[1;33m_interceptor.p\u001b[0m \u001b[31m│\u001b[0m\n",
       "\u001b[31m│\u001b[0m \u001b[1;33my\u001b[0m:\u001b[94m277\u001b[0m in \u001b[92m__call__\u001b[0m                                                                                               \u001b[31m│\u001b[0m\n",
       "\u001b[31m│\u001b[0m                                                                                                                 \u001b[31m│\u001b[0m\n",
       "\u001b[31m│\u001b[0m \u001b[31m❱ \u001b[0m277 \u001b[2m│   │   \u001b[0mresponse, ignored_call = \u001b[96mself\u001b[0m._with_call(                                                         \u001b[31m│\u001b[0m\n",
       "\u001b[31m│\u001b[0m                                                                                                                 \u001b[31m│\u001b[0m\n",
       "\u001b[31m│\u001b[0m \u001b[2;33m/Users/nielsbantilan/miniforge3/envs/jupyter-notebook-workshop/lib/python3.11/site-packages/grpc/\u001b[0m\u001b[1;33m_interceptor.p\u001b[0m \u001b[31m│\u001b[0m\n",
       "\u001b[31m│\u001b[0m \u001b[1;33my\u001b[0m:\u001b[94m329\u001b[0m in \u001b[92m_with_call\u001b[0m                                                                                             \u001b[31m│\u001b[0m\n",
       "\u001b[31m│\u001b[0m                                                                                                                 \u001b[31m│\u001b[0m\n",
       "\u001b[31m│\u001b[0m \u001b[31m❱ \u001b[0m329 \u001b[2m│   │   \u001b[0mcall = \u001b[96mself\u001b[0m._interceptor.intercept_unary_unary(                                                   \u001b[31m│\u001b[0m\n",
       "\u001b[31m│\u001b[0m                                                                                                                 \u001b[31m│\u001b[0m\n",
       "\u001b[31m│\u001b[0m \u001b[2;33m/Users/nielsbantilan/miniforge3/envs/jupyter-notebook-workshop/lib/python3.11/site-packages/flytekit/clients/gr\u001b[0m \u001b[31m│\u001b[0m\n",
       "\u001b[31m│\u001b[0m \u001b[2;33mpc_utils/\u001b[0m\u001b[1;33mwrap_exception_interceptor.py\u001b[0m:\u001b[94m46\u001b[0m in \u001b[92mintercept_unary_unary\u001b[0m                                              \u001b[31m│\u001b[0m\n",
       "\u001b[31m│\u001b[0m                                                                                                                 \u001b[31m│\u001b[0m\n",
       "\u001b[31m│\u001b[0m \u001b[31m❱ \u001b[0m46 \u001b[2m│   │   │   │   │   \u001b[0m\u001b[1;4;94mraise\u001b[0m\u001b[1;4m e\u001b[0m                                                                                \u001b[31m│\u001b[0m\n",
       "\u001b[31m│\u001b[0m                                                                                                                 \u001b[31m│\u001b[0m\n",
       "\u001b[31m│\u001b[0m \u001b[2;33m/Users/nielsbantilan/miniforge3/envs/jupyter-notebook-workshop/lib/python3.11/site-packages/flytekit/clients/gr\u001b[0m \u001b[31m│\u001b[0m\n",
       "\u001b[31m│\u001b[0m \u001b[2;33mpc_utils/\u001b[0m\u001b[1;33mwrap_exception_interceptor.py\u001b[0m:\u001b[94m42\u001b[0m in \u001b[92mintercept_unary_unary\u001b[0m                                              \u001b[31m│\u001b[0m\n",
       "\u001b[31m│\u001b[0m                                                                                                                 \u001b[31m│\u001b[0m\n",
       "\u001b[31m│\u001b[0m \u001b[31m❱ \u001b[0m42 \u001b[2m│   │   │   │   │   \u001b[0m\u001b[96mself\u001b[0m._raise_if_exc(request, e)                                                         \u001b[31m│\u001b[0m\n",
       "\u001b[31m│\u001b[0m                                                                                                                 \u001b[31m│\u001b[0m\n",
       "\u001b[31m│\u001b[0m \u001b[2;33m/Users/nielsbantilan/miniforge3/envs/jupyter-notebook-workshop/lib/python3.11/site-packages/flytekit/clients/gr\u001b[0m \u001b[31m│\u001b[0m\n",
       "\u001b[31m│\u001b[0m \u001b[2;33mpc_utils/\u001b[0m\u001b[1;33mwrap_exception_interceptor.py\u001b[0m:\u001b[94m30\u001b[0m in \u001b[92m_raise_if_exc\u001b[0m                                                      \u001b[31m│\u001b[0m\n",
       "\u001b[31m│\u001b[0m                                                                                                                 \u001b[31m│\u001b[0m\n",
       "\u001b[31m│\u001b[0m \u001b[31m❱ \u001b[0m30 \u001b[2m│   │   │   │   \u001b[0m\u001b[1;4;94mraise\u001b[0m\u001b[1;4m FlyteInvalidInputException(request) \u001b[0m\u001b[1;4;94mfrom\u001b[0m\u001b[1;4m \u001b[0m\u001b[1;4;96me\u001b[0m                                           \u001b[31m│\u001b[0m\n",
       "\u001b[31m╰─────────────────────────────────────────────────────────────────────────────────────────────────────────────────╯\u001b[0m\n",
       "\u001b[1;91mFlyteInvalidInputException: \u001b[0mUSER:BadInputToAPI: \u001b[33merror\u001b[0m=\u001b[3;35mNone\u001b[0m, \u001b[33mcause\u001b[0m=\u001b[1m<\u001b[0m\u001b[1;95m_InactiveRpcError\u001b[0m\u001b[39m of RPC that terminated with:\u001b[0m\n",
       "\u001b[39m        \u001b[0m\u001b[39mstatus = StatusCode.INVALID_ARGUMENT\u001b[0m\n",
       "\u001b[39m        \u001b[0m\u001b[39mdetails = \u001b[0m\u001b[32m\"invalid launch plan default inputs, expected none but found 1\"\u001b[0m\n",
       "\u001b[39m        \u001b[0m\u001b[39mdebug_error_string = \u001b[0m\u001b[32m\"UNKNOWN:Error received from peer  \u001b[0m\u001b[32m{\u001b[0m\u001b[32mcreated_time:\"\u001b[0m\u001b[1;36m2025\u001b[0m\u001b[39m-\u001b[0m\u001b[1;36m01\u001b[0m\u001b[39m-17T\u001b[0m\u001b[1;92m13:59:24\u001b[0m\u001b[39m.\u001b[0m\u001b[1;36m257185\u001b[0m\u001b[39m-\u001b[0m\u001b[1;92m05:00\u001b[0m\u001b[39m\", \u001b[0m\n",
       "\u001b[39mgrpc_status:\u001b[0m\u001b[1;36m3\u001b[0m\u001b[39m, grpc_message:\u001b[0m\u001b[32m\"invalid launch plan default inputs, expected none but found 1\"\u001b[0m\u001b[1;39m}\u001b[0m\u001b[39m\"\u001b[0m\n",
       "\u001b[1m>\u001b[0m\n"
      ]
     },
     "metadata": {},
     "output_type": "display_data"
    }
   ],
   "source": [
    "model_exe = remote.execute(train_wf, inputs={\"dataframe\": dataframe})\n",
    "model_exe"
   ]
  },
  {
   "cell_type": "markdown",
   "metadata": {},
   "source": [
    "Now let's loads the model into the jupyter runtime:"
   ]
  },
  {
   "cell_type": "code",
   "execution_count": null,
   "metadata": {},
   "outputs": [],
   "source": [
    "import joblib\n",
    "\n",
    "model_exe.wait(poll_interval=1)\n",
    "model_file = model_exe.outputs['o0']\n",
    "\n",
    "with open(model_file, \"rb\") as f:\n",
    "    model = joblib.load(f)\n",
    "\n",
    "model"
   ]
  },
  {
   "cell_type": "markdown",
   "metadata": {},
   "source": [
    "Finally, we generate some predictions with the model:"
   ]
  },
  {
   "cell_type": "code",
   "execution_count": null,
   "metadata": {},
   "outputs": [],
   "source": [
    "prediction_data = pd.DataFrame({\n",
    "    \"Age\": [23, 25, 22, 24, 23]\n",
    "})\n",
    "\n",
    "model.predict(prediction_data)"
   ]
  }
 ],
 "metadata": {
  "kernelspec": {
   "display_name": "jupyter-notebook-workshop",
   "language": "python",
   "name": "python3"
  },
  "language_info": {
   "codemirror_mode": {
    "name": "ipython",
    "version": 3
   },
   "file_extension": ".py",
   "mimetype": "text/x-python",
   "name": "python",
   "nbconvert_exporter": "python",
   "pygments_lexer": "ipython3",
   "version": "3.11.10"
  }
 },
 "nbformat": 4,
 "nbformat_minor": 2
}
