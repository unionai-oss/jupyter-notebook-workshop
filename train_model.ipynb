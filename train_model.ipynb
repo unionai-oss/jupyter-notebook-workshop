{
 "cells": [
  {
   "cell_type": "markdown",
   "metadata": {},
   "source": [
    "# Train a Model on Union"
   ]
  },
  {
   "cell_type": "markdown",
   "metadata": {},
   "source": [
    "First, install the necessary packages:"
   ]
  },
  {
   "cell_type": "code",
   "execution_count": null,
   "metadata": {},
   "outputs": [],
   "source": [
    "%pip install \"flytekit==1.14.0b6\" union \"pydantic>2\" pandas pyarrow scikit-learn joblib"
   ]
  },
  {
   "cell_type": "markdown",
   "metadata": {},
   "source": [
    "## Create a Dataset\n",
    "\n",
    "The following code creates a dataset for us to train a model on:"
   ]
  },
  {
   "cell_type": "code",
   "execution_count": 1,
   "metadata": {},
   "outputs": [],
   "source": [
    "import flytekit as fl\n",
    "import pandas as pd\n",
    "import sys\n",
    "\n",
    "\n",
    "image = fl.ImageSpec(\n",
    "    name=\"jupyter-notebook-workshop\",\n",
    "    packages=[\n",
    "        \"pandas\",\n",
    "        \"pyarrow\",\n",
    "        \"flytekit==1.14.0b6\",\n",
    "        \"union==0.1.95\",\n",
    "    ],\n",
    "    python_version=f\"{sys.version_info.major}.{sys.version_info.minor}\",\n",
    ")\n",
    "\n",
    "task = fl.task(container_image=image)\n",
    "\n",
    "\n",
    "@task\n",
    "def get_df() -> pd.DataFrame:\n",
    "    \"\"\"Returns a new Dataframe with cols [Name, Age, Grade and PassedTest]\"\"\"\n",
    "    return pd.DataFrame({\n",
    "        'Name': ['Alice', 'Bob', 'Charlie', 'David', 'Eva'],\n",
    "        'Age': [23, 25, 22, 24, 23],\n",
    "        'Grade': ['A', 'B', 'A', 'C', 'B'],\n",
    "        'PassedTest': [True, False, True, False, True]\n",
    "    })"
   ]
  },
  {
   "cell_type": "markdown",
   "metadata": {},
   "source": [
    "Next we create a remote client that can execute tasks on Union Serverless:"
   ]
  },
  {
   "cell_type": "code",
   "execution_count": null,
   "metadata": {},
   "outputs": [],
   "source": [
    "from union.remote import UnionRemote\n",
    "\n",
    "serverless = UnionRemote()"
   ]
  },
  {
   "cell_type": "markdown",
   "metadata": {},
   "source": [
    "Create the dataframe:"
   ]
  },
  {
   "cell_type": "code",
   "execution_count": null,
   "metadata": {},
   "outputs": [],
   "source": [
    "exe = serverless.execute(get_df, inputs={})\n",
    "exe"
   ]
  },
  {
   "cell_type": "markdown",
   "metadata": {},
   "source": [
    "Wait for the execution to complete, then load the dataframe into memory:"
   ]
  },
  {
   "cell_type": "code",
   "execution_count": null,
   "metadata": {},
   "outputs": [],
   "source": [
    "exe.wait(poll_interval=1)\n",
    "dataframe = exe.outputs['o0']\n",
    "dataframe"
   ]
  },
  {
   "cell_type": "markdown",
   "metadata": {},
   "source": [
    "You can now play around with the dataframe directly in the jupyter runtime:"
   ]
  },
  {
   "cell_type": "code",
   "execution_count": null,
   "metadata": {},
   "outputs": [],
   "source": [
    "def local_function(dataframe: pd.DataFrame):\n",
    "    return dataframe.groupby(\"Grade\")[\"Age\"].sum()\n",
    "\n",
    "local_function(dataframe)"
   ]
  },
  {
   "cell_type": "markdown",
   "metadata": {},
   "source": [
    "## Train a Model\n",
    "\n",
    "Next we define a task that trains a model:"
   ]
  },
  {
   "cell_type": "code",
   "execution_count": 7,
   "metadata": {},
   "outputs": [],
   "source": [
    "from flytekit.types.file import FlyteFile\n",
    "\n",
    "\n",
    "training_task = fl.task(container_image=image.with_packages([\"scikit-learn\", \"joblib\"]))\n",
    "\n",
    "@training_task\n",
    "def train_model(dataframe: pd.DataFrame) -> FlyteFile:\n",
    "    import joblib\n",
    "    from sklearn.linear_model import LogisticRegression\n",
    "\n",
    "    model = LogisticRegression()\n",
    "    model.fit(dataframe[[\"Age\"]], dataframe[\"PassedTest\"])\n",
    "\n",
    "    with open(\"model.pkl\", \"wb\") as f:\n",
    "        joblib.dump(model, f)\n",
    "\n",
    "    return FlyteFile(path=\"model.pkl\")\n",
    "\n",
    "\n",
    "@fl.workflow\n",
    "def train_wf(dataframe: pd.DataFrame) -> FlyteFile:\n",
    "    return train_model(dataframe)"
   ]
  },
  {
   "cell_type": "markdown",
   "metadata": {},
   "source": [
    "Execute the training run:"
   ]
  },
  {
   "cell_type": "code",
   "execution_count": null,
   "metadata": {},
   "outputs": [],
   "source": [
    "model_exe = serverless.execute(train_wf, inputs={\"dataframe\": dataframe})\n",
    "model_exe"
   ]
  },
  {
   "cell_type": "markdown",
   "metadata": {},
   "source": [
    "Now let's loads the model into the jupyter runtime:"
   ]
  },
  {
   "cell_type": "code",
   "execution_count": null,
   "metadata": {},
   "outputs": [],
   "source": [
    "import joblib\n",
    "\n",
    "model_exe.wait(poll_interval=1)\n",
    "model_file = model_exe.outputs['o0']\n",
    "\n",
    "with open(model_file, \"rb\") as f:\n",
    "    model = joblib.load(f)\n",
    "\n",
    "model"
   ]
  },
  {
   "cell_type": "markdown",
   "metadata": {},
   "source": [
    "Finally, we generate some predictions with the model:"
   ]
  },
  {
   "cell_type": "code",
   "execution_count": null,
   "metadata": {},
   "outputs": [],
   "source": [
    "prediction_data = pd.DataFrame({\n",
    "    \"Age\": [23, 25, 22, 24, 23]\n",
    "})\n",
    "\n",
    "model.predict(prediction_data)"
   ]
  }
 ],
 "metadata": {
  "kernelspec": {
   "display_name": "jupyter-notebook-workshop",
   "language": "python",
   "name": "python3"
  },
  "language_info": {
   "codemirror_mode": {
    "name": "ipython",
    "version": 3
   },
   "file_extension": ".py",
   "mimetype": "text/x-python",
   "name": "python",
   "nbconvert_exporter": "python",
   "pygments_lexer": "ipython3",
   "version": "3.11.10"
  }
 },
 "nbformat": 4,
 "nbformat_minor": 2
}
