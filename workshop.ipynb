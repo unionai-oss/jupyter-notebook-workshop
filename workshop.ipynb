{
 "cells": [
  {
   "cell_type": "markdown",
   "metadata": {},
   "source": [
    "# Run Union Workflows on a Jupyter Notebook\n",
    "\n",
    "First create a Union Serverless account:\n",
    "👉 https://signup.union.ai/"
   ]
  },
  {
   "cell_type": "markdown",
   "metadata": {},
   "source": [
    "First install the dependencies:"
   ]
  },
  {
   "cell_type": "code",
   "execution_count": 1,
   "metadata": {},
   "outputs": [],
   "source": [
    "%%capture\n",
    "%pip install \"git+https://github.com/flyteorg/flytekit@3e3ec17ea\" union \"pydantic>2\""
   ]
  },
  {
   "cell_type": "markdown",
   "metadata": {},
   "source": [
    "Then, login to Union on this notebook session:"
   ]
  },
  {
   "cell_type": "code",
   "execution_count": null,
   "metadata": {},
   "outputs": [],
   "source": [
    "!union create login --auth device-flow --serverless"
   ]
  },
  {
   "cell_type": "markdown",
   "metadata": {},
   "source": [
    "## Create some data\n",
    "\n",
    "Let's create some toy data:"
   ]
  },
  {
   "cell_type": "code",
   "execution_count": 6,
   "metadata": {},
   "outputs": [],
   "source": [
    "import flytekit as fk\n",
    "import sys\n",
    "\n",
    "\n",
    "image = fk.ImageSpec(\n",
    "    name=\"jupyter-notebook-workshop\",\n",
    "    packages=[\"git+https://github.com/flyteorg/flytekit@3e3ec17ea\"],\n",
    "    apt_packages=[\"git\"],\n",
    "    python_version=f\"{sys.version_info.major}.{sys.version_info.minor}\",\n",
    ")\n",
    "\n",
    "\n",
    "task = fk.task(container_image=image)\n",
    "\n",
    "\n",
    "@task\n",
    "def create_dataset(n: int) -> list[int]:\n",
    "    return [*range(n)]\n",
    "\n",
    "\n",
    "@fk.workflow\n",
    "def dataset_wf(n: int = 100) -> list[int]:\n",
    "    return create_dataset(n)"
   ]
  },
  {
   "cell_type": "markdown",
   "metadata": {},
   "source": [
    "## Running on Union\n",
    "\n",
    "Let's define a `UnionRemote` object:"
   ]
  },
  {
   "cell_type": "code",
   "execution_count": 7,
   "metadata": {},
   "outputs": [
    {
     "data": {
      "text/html": [
       "<pre style=\"white-space:pre;overflow-x:auto;line-height:normal;font-family:Menlo,'DejaVu Sans Mono',consolas,'Courier New',monospace\"><span style=\"color: #7fbfbf; text-decoration-color: #7fbfbf\">13:24:31.751523 </span><span style=\"color: #808000; text-decoration-color: #808000\">WARNING </span> remote.py:<span style=\"color: #008080; text-decoration-color: #008080; font-weight: bold\">286</span> - Jupyter notebook and interactive task  \n",
       "<span style=\"color: #7fbfbf; text-decoration-color: #7fbfbf\">                </span>         support is still alpha.                                \n",
       "</pre>\n"
      ],
      "text/plain": [
       "\u001b[2;36m13:24:31.751523\u001b[0m\u001b[2;36m \u001b[0m\u001b[33mWARNING \u001b[0m remote.py:\u001b[1;36m286\u001b[0m - Jupyter notebook and interactive task  \n",
       "\u001b[2;36m                \u001b[0m         support is still alpha.                                \n"
      ]
     },
     "metadata": {},
     "output_type": "display_data"
    }
   ],
   "source": [
    "from union.remote import UnionRemote\n",
    "from union.ucimage._image_builder import _register_union_image_builder\n",
    "\n",
    "_register_union_image_builder() \n",
    "remote = UnionRemote()"
   ]
  },
  {
   "cell_type": "markdown",
   "metadata": {},
   "source": [
    "Then, we can execute the workflow like so:"
   ]
  },
  {
   "cell_type": "code",
   "execution_count": 8,
   "metadata": {},
   "outputs": [
    {
     "name": "stdout",
     "output_type": "stream",
     "text": [
      "\u001b[34mImage cr.union.ai/jupyter-notebook-workshop:ntYVSE9agvQyq_KMWZJyLw found. Skip building.\u001b[0m\n",
      "https://serverless.union.ai/org/cosmicbboy/projects/flytesnacks/domains/development/executions/ajmgkph48dwglmm9bp2d\n"
     ]
    }
   ],
   "source": [
    "exe = remote.execute(dataset_wf, inputs={\"n\": 50})\n",
    "print(exe.execution_url)"
   ]
  },
  {
   "cell_type": "markdown",
   "metadata": {},
   "source": [
    "We can fetch the output of the workflow back into our notebook:"
   ]
  },
  {
   "cell_type": "code",
   "execution_count": 9,
   "metadata": {},
   "outputs": [
    {
     "name": "stdout",
     "output_type": "stream",
     "text": [
      "{'o0': [0, 1, 2, 3, 4, 5, 6, 7, 8, 9, 10, 11, 12, 13, 14, 15, 16, 17, 18, 19, 20, 21, 22, 23, 24, 25, 26, 27, 28, 29, 30, 31, 32, 33, 34, 35, 36, 37, 38, 39, 40, 41, 42, 43, 44, 45, 46, 47, 48, 49]}\n"
     ]
    }
   ],
   "source": [
    "# Wait for the task to complete\n",
    "exe = exe.wait(poll_interval=1)\n",
    "\n",
    "# Print the outputs\n",
    "print(exe.outputs)"
   ]
  },
  {
   "cell_type": "markdown",
   "metadata": {},
   "source": [
    "## Compute the mean\n",
    "\n",
    "We can then pass the data back into another workflow that computes the mean:"
   ]
  },
  {
   "cell_type": "code",
   "execution_count": 13,
   "metadata": {},
   "outputs": [],
   "source": [
    "@task\n",
    "def compute_mean(data: list[int]) -> float:\n",
    "    return sum(data) / len(data)\n",
    "\n",
    "\n",
    "@fk.workflow\n",
    "def mean_wf(data: list[int]) -> float:\n",
    "    return compute_mean(data)"
   ]
  },
  {
   "cell_type": "markdown",
   "metadata": {},
   "source": [
    "Run the workflow:"
   ]
  },
  {
   "cell_type": "code",
   "execution_count": 14,
   "metadata": {},
   "outputs": [
    {
     "name": "stdout",
     "output_type": "stream",
     "text": [
      "https://serverless.union.ai/org/cosmicbboy/projects/flytesnacks/domains/development/executions/acvd782grmn4sdf2hnw8\n"
     ]
    }
   ],
   "source": [
    "# Execute the workflow\n",
    "data, *_ = exe.outputs.values()\n",
    "exe = remote.execute(mean_wf, inputs={\"data\": data})\n",
    "print(exe.execution_url)"
   ]
  },
  {
   "cell_type": "code",
   "execution_count": 15,
   "metadata": {},
   "outputs": [
    {
     "name": "stdout",
     "output_type": "stream",
     "text": [
      "{'o0': 24.5}\n"
     ]
    }
   ],
   "source": [
    "# Wait for the task to complete\n",
    "exe = exe.wait(poll_interval=1)\n",
    "\n",
    "# Print the outputs\n",
    "print(exe.outputs)"
   ]
  },
  {
   "cell_type": "markdown",
   "metadata": {},
   "source": [
    "And that's it! You can now iterate on your workflows and tasks directly inside a Jupyter Notebook 🚀"
   ]
  }
 ],
 "metadata": {
  "kernelspec": {
   "display_name": "jupyter-notebook-workshop",
   "language": "python",
   "name": "python3"
  },
  "language_info": {
   "codemirror_mode": {
    "name": "ipython",
    "version": 3
   },
   "file_extension": ".py",
   "mimetype": "text/x-python",
   "name": "python",
   "nbconvert_exporter": "python",
   "pygments_lexer": "ipython3",
   "version": "3.11.10"
  }
 },
 "nbformat": 4,
 "nbformat_minor": 2
}
